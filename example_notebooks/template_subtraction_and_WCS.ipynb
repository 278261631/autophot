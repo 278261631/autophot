{
 "cells": [
  {
   "cell_type": "markdown",
   "metadata": {},
   "source": [
    "<h1 align=\"center\"> Using Template Subtraction and updating WCS in AutoPhoT </h1> \n",
    "\n",
    "\n",
    "This notebook will cover how to run AutoPhoT with template subtraction. Additional this notebook will explain now to setup AutoPhoT such that it can update an image's WCS automatically\n",
    "\n",
    "To review the basic operations of AutoPHoT, see ([here](https://github.com/Astro-Sean/autophot/blob/master/example_notebooks/autophot_example.ipynb))\n",
    "\n",
    "\n",
    "\n",
    "<div class=\"alert alert-info\">\n",
    "  <strong>info!</strong> For this notebook you will need HOTPANTS, PyZOGY and Astrometry.Net installed on your machine, for detailed installation instructions, see <a href=https://github.com/Astro-Sean/autophot>here</a>.\n",
    "</div>\n",
    "\n",
    "\n",
    "<div class=\"alert alert-danger\">\n",
    "  <strong>Advice</strong> Template subtraction have be a black box of pain and frustration. AutoPHoT works well when the template is from the same telescope and instrument, with varying results if there is discrepancy from where the template and image are from. Check all template subtracted images!\n",
    "</div>\n"
   ]
  },
  {
   "cell_type": "markdown",
   "metadata": {},
   "source": [
    "As before we will load in the autophot control file - we will need to update a few options to prepare AutoPhot for template subtractions\n"
   ]
  },
  {
   "cell_type": "code",
   "execution_count": 1,
   "metadata": {},
   "outputs": [
    {
     "name": "stdout",
     "output_type": "stream",
     "text": [
      "Default input loaded in from: \n",
      "/Users/seanbrennan/miniconda3/envs/autophot/lib/python3.7/site-packages/autophot/databases/default_input.yml\n"
     ]
    }
   ],
   "source": [
    "from autophot.prep_input import load\n",
    "autophot_input = load()"
   ]
  },
  {
   "cell_type": "markdown",
   "metadata": {},
   "source": [
    "<h2 align=\"center\">Loading in some example Data</h2> \n",
    "In this example we will use the function below with *template_subtraction_example = True* to create a new folder on your Desktop called *autophot_template_subtrction_example*. \n",
    "\n",
    "<div class=\"alert alert-warning\">\n",
    "  <strong>Warning!</strong> If you are using your own data and are familiar with the directory setup this cell is not needed.\n",
    "</div>\n"
   ]
  },
  {
   "cell_type": "code",
   "execution_count": 2,
   "metadata": {
    "scrolled": true
   },
   "outputs": [
    {
     "name": "stdout",
     "output_type": "stream",
     "text": [
      "Successful copy of transient_with_host.fits written to: /Users/seanbrennan/Desktop/autophot_host_subtraction_example/transient_with_host.fits\n",
      "\n",
      "Successful copy of template_with_host.fits written to: /Users/seanbrennan/Desktop/autophot_host_subtraction_example/templates/gp_template\n"
     ]
    }
   ],
   "source": [
    "from autophot.example import save_example_data\n",
    "fpath = save_example_data.save_fits_to_desktop(template_subtraction_example = True) "
   ]
  },
  {
   "cell_type": "markdown",
   "metadata": {},
   "source": [
    "The above function returns the file location, *fpath*, which is the filepath to our fits images. This image contained a transient that is heavily contaminate by it's host Galaxy. Additionally the function has created a folder named templates, In the cell below we can list out the contents of this directory we created."
   ]
  },
  {
   "cell_type": "code",
   "execution_count": 3,
   "metadata": {},
   "outputs": [
    {
     "name": "stdout",
     "output_type": "stream",
     "text": [
      "\n",
      "list of contects in: /Users/seanbrennan/Desktop/autophot_host_subtraction_example \n",
      "['tns_objects', 'catalog_queries', 'templates', 'transient_with_host.fits', 'telescope.yml']\n"
     ]
    }
   ],
   "source": [
    "import os\n",
    "\n",
    "# Lets just see that everything is in place \n",
    "dirpath = os.path.dirname(fpath)\n",
    "\n",
    "# List contents of folder. We use this generator function to ignore hidden files\n",
    "dir_contents = [i for i in os.listdir(dirpath) if not i.startswith('.')]\n",
    "\n",
    "print('\\nlist of contects in: %s \\n%s' % (dirpath,dir_contents))# returns list of folder contents"
   ]
  },
  {
   "cell_type": "markdown",
   "metadata": {},
   "source": [
    "<h2 align=\"center\">Template Directory structure - Important</h2> \n",
    "Now we can check the contents of this *templates* fodler. In the cell below we list out the directory contents, we can see that there is a set of directorys labeled X_template, where X is the name of tha filter which AutoPHoT accepts, UBVRI, ugriz, and JHK bands.\n",
    "\n",
    "<div class=\"alert alert-info\">\n",
    "  <strong>Info!</strong> Because of the case-sensitive name of Python 3, we've decided to allocate ugriz template folders name to have up, gp, rp, ip, and zp. See below.\n",
    "</div>\n",
    "\n",
    "\n"
   ]
  },
  {
   "cell_type": "code",
   "execution_count": 4,
   "metadata": {},
   "outputs": [
    {
     "name": "stdout",
     "output_type": "stream",
     "text": [
      "Contents of template folder: ['B_template', 'I_template', 'H_template', 'V_template', 'ip_template', 'zp_template', 'gp_template', 'U_template', 'rp_template', 'J_template', 'K_template', 'R_template', 'up_template']\n"
     ]
    }
   ],
   "source": [
    "main_template_foler = os.path.join(dirpath,'templates')\n",
    "\n",
    "template_dir_contents = [i for i in os.listdir(main_template_foler) if not i.startswith('.')]\n",
    "\n",
    "print('Contents of template folder:',template_dir_contents)\n",
    "#os.listdir(main_template_foler)"
   ]
  },
  {
   "cell_type": "markdown",
   "metadata": {},
   "source": [
    "In this exmaple, the image and template are both in *g* band. We can check the contents of the *gp_template* directory"
   ]
  },
  {
   "cell_type": "code",
   "execution_count": 5,
   "metadata": {},
   "outputs": [
    {
     "name": "stdout",
     "output_type": "stream",
     "text": [
      "Contents of gp template folder: ['template_with_host.fits', 'template_with_host.fits.log']\n"
     ]
    }
   ],
   "source": [
    "gp_template_folder = os.path.join(main_template_foler,'gp_template')\n",
    "\n",
    "gp_template_dir_contents = [i for i in os.listdir(gp_template_folder) if not i.startswith('.')]\n",
    "\n",
    "print('Contents of gp template folder:',gp_template_dir_contents )"
   ]
  },
  {
   "cell_type": "markdown",
   "metadata": {},
   "source": [
    "<h2 align=\"center\">Setting up AutoPHoT For template subtraction</h2> \n",
    "\n",
    "\n",
    "We will first set up AutoPHoT for template subtraction with HOTPANTS and then show the commands nessecary for template subtractiont using ZOGY\n",
    "\n",
    "\n",
    "<div class=\"alert alert-info\">\n",
    "  <strong>Info!</strong> In the following cell we set up AutoPHoT for basic execution, for details on this step see <a href=https://github.com/Astro-Sean/autophot/blob/master/example_notebooks/autophot_example.ipynb>here</a>.\n",
    "</div>\n"
   ]
  },
  {
   "cell_type": "code",
   "execution_count": 6,
   "metadata": {},
   "outputs": [
    {
     "name": "stdout",
     "output_type": "stream",
     "text": [
      "Setting file directory (fits_dir) to: /Users/seanbrennan/Desktop/autophot_host_subtraction_example\n",
      "Setting work directory (wdir) to: /Users/seanbrennan/Desktop/autophot_host_subtraction_example\n"
     ]
    }
   ],
   "source": [
    "# Location of our fits files\n",
    "autophot_input['fits_dir'] = dirpath\n",
    "print('Setting file directory (fits_dir) to: %s' % dirpath)\n",
    "\n",
    "autophot_input['wdir'] = dirpath\n",
    "print('Setting work directory (wdir) to: %s' % dirpath)\n",
    "\n",
    "# set the catalog as before # Can choose skymapper, apass, pan_starrs, 2mass\n",
    "autophot_input['catalog']['use_catalog'] = 'sdss'"
   ]
  },
  {
   "cell_type": "markdown",
   "metadata": {},
   "source": [
    "Select our Target - in this example we are looking at AT 2018cow which is heaviliy contaminated by it's host galaxy, CGCG137-068"
   ]
  },
  {
   "cell_type": "code",
   "execution_count": 7,
   "metadata": {},
   "outputs": [],
   "source": [
    "# Select a source and update our syntax input\n",
    "# For this example lets use the location of AT2016jbu as that won't be removed in the template subtraction\n",
    "ra  = 244.000917 \n",
    "dec = 22.268031\n",
    "\n",
    "from astropy.coordinates import SkyCoord \n",
    "c = SkyCoord(ra,dec , unit=\"deg\") \n",
    "\n",
    "\n",
    "# Not tell autophot where to look\n",
    "autophot_input['target_ra'] = c.ra.degree\n",
    "autophot_input['target_dec'] = c.dec.degree"
   ]
  },
  {
   "cell_type": "markdown",
   "metadata": {},
   "source": [
    "<h3 align=\"center\">Why we need template subtraction in this case</h3> \n",
    "\n",
    "Below we will plot the general location of the transient. The plot shows that there is a lot of contamination from the host galaxy. This will lead to poor fitting and high errors on our target magnitude.\n",
    "\n",
    "In this specific example AT 2018cow is contaminated by its host as well as a source south-west of its' locaiton"
   ]
  },
  {
   "cell_type": "code",
   "execution_count": 8,
   "metadata": {},
   "outputs": [
    {
     "data": {
      "image/png": "[encoded data removed]",
      "text/plain": [
       "<Figure size 576x432 with 2 Axes>"
      ]
     },
     "metadata": {
      "needs_background": "light"
     },
     "output_type": "display_data"
    }
   ],
   "source": [
    "# We will plot out the image \n",
    "import matplotlib.pyplot as plt\n",
    "from astropy.visualization import ImageNormalize,SquaredStretch,ZScaleInterval\n",
    "\n",
    "\n",
    "# autophot functions to find image data and header from fits files\n",
    "from autophot.packages.functions import getimage\n",
    "from autophot.packages.functions import getheader\n",
    "\n",
    "# To retrieve the WCS information from this image\n",
    "from astropy import wcs\n",
    "from astropy.coordinates import SkyCoord \n",
    "\n",
    "# image\n",
    "data = getimage(fpath)\n",
    "\n",
    "# header\n",
    "header = getheader(fpath)\n",
    "\n",
    "# Create an ImageNormalize object\n",
    "vmin,vmax = (ZScaleInterval(nsamples = 1000)).get_limits(data)\n",
    "\n",
    "# WCS information of image\n",
    "w = wcs.WCS(header)\n",
    "\n",
    "# get pixel coordinates of this source\n",
    "c = SkyCoord(ra,dec , unit=\"deg\") \n",
    "x_pix,y_pix = w.all_world2pix(c.ra.degree, c.dec.degree, 1)\n",
    "\n",
    "\n",
    "# plot image\n",
    "fig = plt.figure(figsize = (8,6))\n",
    "ax1 = fig.add_subplot(121)\n",
    "ax2 = fig.add_subplot(122)\n",
    "\n",
    "ax1.imshow(data,\n",
    "          vmin = vmin,\n",
    "          vmax = vmax,\n",
    "          origin = 'lower',\n",
    "          cmap = 'viridis')\n",
    "\n",
    "ax1.scatter(x_pix,y_pix,\n",
    "            marker = 'o',\n",
    "            facecolor = 'none',\n",
    "            edgecolor = 'r',\n",
    "            s = 50)\n",
    "\n",
    "# Plot a close up cutout of the source too\n",
    "cutout_size = 10\n",
    "cutout = data[int(y_pix-cutout_size):int(y_pix+cutout_size),\n",
    "              int(x_pix-cutout_size):int(x_pix+cutout_size)]\n",
    "\n",
    "ax2.imshow(cutout,\n",
    "           origin = 'lower',\n",
    "           cmap = 'viridis')\n",
    "\n",
    "ax2.scatter(cutout_size,cutout_size,\n",
    "            marker = 'o',\n",
    "            facecolor = 'none',\n",
    "            edgecolor = 'r',\n",
    "            s = 50)\n",
    "\n",
    "\n",
    "plt.show()"
   ]
  },
  {
   "cell_type": "markdown",
   "metadata": {},
   "source": [
    "<h3 align=\"center\">Updating AutoPHoT commands</h3> \n",
    "\n",
    "AutoPHoT needs to be told where to find certain executables for Astrometry.net and HOTPANTS. For my machine they are as follows. See [here](https://github.com/Astro-Sean/autophot) for how to find these file paths on your machine."
   ]
  },
  {
   "cell_type": "code",
   "execution_count": 9,
   "metadata": {},
   "outputs": [],
   "source": [
    "# Location of solve-field executable for Astrometry.Net\n",
    "autophot_input['wcs']['solve_field_exe_loc'] = '/usr/local/Cellar/astrometry-net/0.85_1/bin/solve-field'\n",
    "\n",
    "# Location of  hotpants executable from HOTPANTS\n",
    "autophot_input['template_subtraction']['hotpants_exe_loc'] = '/usr/local/hotpants-master/hotpants'"
   ]
  },
  {
   "cell_type": "markdown",
   "metadata": {},
   "source": [
    "We also need to tell AutoPHoT that we want to perform image subtraction\n"
   ]
  },
  {
   "cell_type": "code",
   "execution_count": 10,
   "metadata": {},
   "outputs": [],
   "source": [
    "autophot_input['template_subtraction']['do_subtraction'] = True"
   ]
  },
  {
   "cell_type": "markdown",
   "metadata": {},
   "source": [
    "<h3 align=\"center\">Preprosseing of Template images</h3> \n",
    "\n",
    "AutoPHoT includes a package to prep the template images for use. This includes redoing the WCS values, cleaning comsic rays and building a PSF model and saving it as a fits file. The later step is vital for using ZOGY with AutoPHoT."
   ]
  },
  {
   "cell_type": "code",
   "execution_count": 11,
   "metadata": {},
   "outputs": [],
   "source": [
    "autophot_input['template_subtraction']['prepare_templates'] = True"
   ]
  },
  {
   "cell_type": "markdown",
   "metadata": {},
   "source": [
    "We can now execute AutoPHoT. This first execution will prepare our tenplate files\n"
   ]
  },
  {
   "cell_type": "code",
   "execution_count": 12,
   "metadata": {},
   "outputs": [
    {
     "name": "stdout",
     "output_type": "stream",
     "text": [
      "\n",
      "        _       _       ___ _  _    _____\n",
      "       /_\\ _  _| |_ ___| _ \\ || |__|_   _|\n",
      "      / _ \\ || |  _/ _ \\  _/ __ / _ \\| |\n",
      "     /_/ \\_\\_,_|\\__\\___/_| |_||_\\___/|_|\n",
      "    \n",
      "     ---------------------------------------\n",
      "        Automated Photometry of Transients\n",
      "        S. J. Brennan et al. 2021 \n",
      "        Please provide feedback/bugs to:\n",
      "        Email: sean.brennan2@ucdconnect.ie\n",
      "    ---------------------------------------\n",
      "Directory of fits file: /Users/seanbrennan/Desktop/autophot_host_subtraction_example\n",
      "Found Telescopes:\n",
      "\n",
      " - Liverpool Telescope\n",
      "\n",
      "-> Telescope check complete\n",
      "\n",
      "Checking Filter keywords and database\n",
      "\n",
      "-> Filter check complete\n",
      "\n",
      "Checking Filter information for each image\n",
      "\n",
      "Files removed - Wrong Image Type: 0\n",
      "\n",
      "Files removed - No/Wrong filter(s): 0\n",
      "Filters not included: []\n",
      "\n",
      "\n",
      "Files removed: 0\n",
      "\n",
      "------------------------\n",
      "Preparing Template Files\n",
      "------------------------\n",
      "\n",
      "+-----------+\n",
      "|File: 1 / 1|\n",
      "+-----------+\n",
      "\n"
     ]
    },
    {
     "name": "stderr",
     "output_type": "stream",
     "text": [
      "File: template_with_host.fits - PID: 31807\n",
      "Start Time: 2022-01-05 15:25:49.047852\n",
      "Filter keyoward used: FILTER\n",
      "Write Directory: /Users/seanbrennan/Desktop/autophot_host_subtraction_example/templates/gp_template\n",
      "Read noise key not found for template file\n",
      "Read Noise: 0.0 [e^- /pixel]\n",
      "Template GAIN: 1.0 [e^- /count]\n",
      "Template Exposure Time: 4.0 [s]\n"
     ]
    },
    {
     "name": "stdout",
     "output_type": "stream",
     "text": [
      "\n",
      "+-------------------------+\n",
      "|Preparing templates files|\n",
      "+-------------------------+\n",
      "\n"
     ]
    },
    {
     "name": "stderr",
     "output_type": "stream",
     "text": [
      "Detecting/removing cosmic ray sources\n"
     ]
    },
    {
     "name": "stdout",
     "output_type": "stream",
     "text": [
      "Starting Astroscrappy ... "
     ]
    },
    {
     "name": "stderr",
     "output_type": "stream",
     "text": [
      "Contaminated pixels with Cosmic rays removed: 76\n",
      "Cosmic rays removed - image updated\n",
      "ASTROMETRY started...\n",
      "ASTROMETRY finished: 4s\n",
      "Removing any pre-existing WCS keys \n",
      "Updating WCS keys with new values\n",
      "\n",
      "Searching for FWHM\n",
      "Using Gaussian Profile for fitting\n"
     ]
    },
    {
     "name": "stdout",
     "output_type": "stream",
     "text": [
      "\n",
      "+-------------------------------+\n",
      "|Finding Full Width Half Maximum|\n",
      "+-------------------------------+\n",
      "\n"
     ]
    },
    {
     "name": "stderr",
     "output_type": "stream",
     "text": [
      "\n",
      "Number of sources before cleaning [ 25.0 sigma ]: 25 \n",
      "Updating search FWHM value\n"
     ]
    },
    {
     "name": "stdout",
     "output_type": "stream",
     "text": [
      "zero-size array to reduction operation fmax which has no identity\n",
      "Updated guess for FWHM: 4.5 pixels \n"
     ]
    },
    {
     "name": "stderr",
     "output_type": "stream",
     "text": [
      "\n",
      "Number of sources before cleaning [ 25.0 sigma ]: 87 \n",
      "Removed 7 sources near boundary\n",
      "Removed 11 crowded sources\n"
     ]
    },
    {
     "name": "stdout",
     "output_type": "stream",
     "text": [
      "Fitting source for FWHM: 69/69 "
     ]
    },
    {
     "name": "stderr",
     "output_type": "stream",
     "text": [
      "Removed 8 FWHM outliers\n",
      "Removed 21 median outliers\n",
      "Useable sources found [ 25 sigma ]: 69\n",
      "Removes 0 sources within minimum seperation [ 22 pixel ]\n",
      "\n",
      "Large error on FWHM - returning plots for user diagnostic\n",
      "/Users/seanbrennan/miniconda3/envs/autophot/lib/python3.7/site-packages/matplotlib/axes/_base.py:2283: UserWarning: Warning: converting a masked element to nan.\n",
      "  xys = np.asarray(xys)\n",
      "/Users/seanbrennan/miniconda3/envs/autophot/lib/python3.7/site-packages/matplotlib/axes/_base.py:2283: UserWarning: Warning: converting a masked element to nan.\n",
      "  xys = np.asarray(xys)\n",
      "\n",
      "FWHM: 4.823 +/- 2.196 [ pixels ]\n",
      "Residual table updated: 1 / 10 \n",
      "\tSNR: 278 :: FWHM fitted 4.529\n",
      "Residual table updated: 2 / 10 \n",
      "\tSNR: 259 :: FWHM fitted 4.396\n"
     ]
    },
    {
     "name": "stdout",
     "output_type": "stream",
     "text": [
      "\n",
      "+-------------------------------------------+\n",
      "|Building PSF model using stars in the field|\n",
      "+-------------------------------------------+\n",
      "\n"
     ]
    },
    {
     "name": "stderr",
     "output_type": "stream",
     "text": [
      "Residual table updated: 3 / 10 \n",
      "\tSNR: 230 :: FWHM fitted 4.477\n",
      "Residual table updated: 4 / 10 \n",
      "\tSNR: 223 :: FWHM fitted 4.518\n",
      "Residual table updated: 5 / 10 \n",
      "\tSNR: 188 :: FWHM fitted 4.484\n",
      "Residual table updated: 6 / 10 \n",
      "\tSNR: 157 :: FWHM fitted 4.465\n",
      "Residual table updated: 7 / 10 \n",
      "\tSNR: 155 :: FWHM fitted 4.435\n",
      "Residual table updated: 8 / 10 \n",
      "\tSNR: 153 :: FWHM fitted 4.351\n",
      "Residual table updated: 9 / 10 \n",
      "\tSNR: 144 :: FWHM fitted 4.427\n",
      "Residual table updated: 10 / 10 \n",
      "\tSNR: 100 :: FWHM fitted 4.551\n",
      "\n",
      "PSF built using 10 sources\n",
      "\n"
     ]
    },
    {
     "name": "stdout",
     "output_type": "stream",
     "text": [
      "PSF model saved as: /Users/seanbrennan/Desktop/autophot_host_subtraction_example/templates/gp_template/PSF_model_template_with_host.fits\n",
      "\n",
      "------------------------------------------------------------\n",
      "Templates ready - Please check to make sure they are correct\n",
      "set 'prepare_templates' to False and execute\n",
      "------------------------------------------------------------\n",
      "\n",
      "DONE\n",
      "\n",
      "Done - Time Taken: 41.3\n"
     ]
    }
   ],
   "source": [
    "from autophot.autophot_main import run_automatic_autophot\n",
    "\n",
    "run_automatic_autophot(autophot_input)"
   ]
  },
  {
   "cell_type": "markdown",
   "metadata": {},
   "source": [
    "<div class=\"alert alert-warning\">\n",
    "  <strong>Warning!</strong> Make sure to set autophot_input['template_subtraction']['prepare_templates'] to False afterwards\n",
    "</div>"
   ]
  },
  {
   "cell_type": "code",
   "execution_count": 13,
   "metadata": {},
   "outputs": [],
   "source": [
    "autophot_input['template_subtraction']['prepare_templates'] = False"
   ]
  },
  {
   "cell_type": "markdown",
   "metadata": {},
   "source": [
    "We can list the contents of the gp_template folder to check out the new contents"
   ]
  },
  {
   "cell_type": "code",
   "execution_count": 14,
   "metadata": {},
   "outputs": [
    {
     "name": "stdout",
     "output_type": "stream",
     "text": [
      "Contents of gp template folder: ['PSF_model_template_with_host.fits', 'template_with_host.fits', 'template_with_host.fits.log', 'template_with_host_astrometry.log', 'image_analysis_template_with_host.pdf', 'fwhm_histogram_template_with_host.pdf', 'calib_template.csv', 'image_analysis_template_with_host.csv']\n"
     ]
    }
   ],
   "source": [
    "gp_template_folder = os.path.join(main_template_foler,'gp_template')\n",
    "gp_template_dir_contents = [i for i in os.listdir(gp_template_folder) if not i.startswith('.')]\n",
    "\n",
    "print('Contents of gp template folder:',gp_template_dir_contents )"
   ]
  },
  {
   "cell_type": "markdown",
   "metadata": {},
   "source": [
    "<h2 align=\"center\">Using HOTPANTS with AutoPHoT</h2> \n",
    "\n",
    "HOTPANTS is set to the default template subtraction method in AutoPHoT. Since we have updated the *hotpants_exe_loc* comamnd above we can simply run the AutoPHoT code again."
   ]
  },
  {
   "cell_type": "code",
   "execution_count": 15,
   "metadata": {},
   "outputs": [
    {
     "name": "stderr",
     "output_type": "stream",
     "text": [
      "\n",
      "User instrument database: /Users/seanbrennan/Desktop/autophot_host_subtraction_example/telescope.yml\n",
      "\n",
      "Number of files: 1\n",
      "\n",
      "1 telescope(s) detected - checking header keywords\n",
      "\n"
     ]
    },
    {
     "name": "stdout",
     "output_type": "stream",
     "text": [
      "\n",
      "        _       _       ___ _  _    _____\n",
      "       /_\\ _  _| |_ ___| _ \\ || |__|_   _|\n",
      "      / _ \\ || |  _/ _ \\  _/ __ / _ \\| |\n",
      "     /_/ \\_\\_,_|\\__\\___/_| |_||_\\___/|_|\n",
      "    \n",
      "     ---------------------------------------\n",
      "        Automated Photometry of Transients\n",
      "        S. J. Brennan et al. 2021 \n",
      "        Please provide feedback/bugs to:\n",
      "        Email: sean.brennan2@ucdconnect.ie\n",
      "    ---------------------------------------\n",
      "Directory of fits file: /Users/seanbrennan/Desktop/autophot_host_subtraction_example\n",
      "Found Telescopes:\n",
      "\n",
      " - Liverpool Telescope\n",
      "\n",
      "-> Telescope check complete\n",
      "\n",
      "Checking Filter keywords and database\n",
      "\n",
      "-> Filter check complete\n",
      "\n",
      "Checking Filter information for each image\n",
      "\n",
      "Files removed - Wrong Image Type: 0\n",
      "\n",
      "Files removed - No/Wrong filter(s): 0\n",
      "Filters not included: []\n",
      "\n",
      "\n",
      "Files removed: 0\n",
      "\n",
      "+-----------+\n",
      "|File: 1 / 1|\n",
      "+-----------+\n",
      "\n"
     ]
    },
    {
     "name": "stderr",
     "output_type": "stream",
     "text": [
      "File: transient_with_host_APT.fits - PID: 31807\n",
      "Start Time: 2022-01-05 15:26:10.623034\n",
      "Filter keyoward used: FILTER\n",
      "Telescope: Liverpool Telescope\n",
      "Filter: g\n",
      "MJD: 58346.923\n",
      "Date of Observation : 2018-08-16\n",
      "Read Noise: 0.0 [e^- /pixel]\n",
      "GAIN: 1.0 [e^- /count]\n",
      "Exposure time: 4 [s] \n",
      "Detecting/removing cosmic ray sources\n"
     ]
    },
    {
     "name": "stdout",
     "output_type": "stream",
     "text": [
      "Starting Astroscrappy ... "
     ]
    },
    {
     "name": "stderr",
     "output_type": "stream",
     "text": [
      "Contaminated pixels with Cosmic rays removed: 296\n",
      "Cosmic rays removed - image updated\n",
      "Astrometry.net already excuted\n",
      "\n",
      "Searching for FWHM\n",
      "Using Gaussian Profile for fitting\n"
     ]
    },
    {
     "name": "stdout",
     "output_type": "stream",
     "text": [
      "\n",
      "+-------------------------------+\n",
      "|Finding Full Width Half Maximum|\n",
      "+-------------------------------+\n",
      "\n"
     ]
    },
    {
     "name": "stderr",
     "output_type": "stream",
     "text": [
      "\n",
      "Number of sources before cleaning [ 25.0 sigma ]: 25 \n",
      "Updating search FWHM value\n"
     ]
    },
    {
     "name": "stdout",
     "output_type": "stream",
     "text": [
      "Updated guess for FWHM: 5.0 pixels \n"
     ]
    },
    {
     "name": "stderr",
     "output_type": "stream",
     "text": [
      "\n",
      "Number of sources before cleaning [ 25.0 sigma ]: 95 \n",
      "Removed 6 sources near boundary\n",
      "Removed 13 crowded sources\n"
     ]
    },
    {
     "name": "stdout",
     "output_type": "stream",
     "text": [
      "Fitting source for FWHM: 76/76 "
     ]
    },
    {
     "name": "stderr",
     "output_type": "stream",
     "text": [
      "Removed 11 FWHM outliers\n",
      "Removed 25 median outliers\n",
      "Useable sources found [ 25 sigma ]: 76\n",
      "Removes 0 sources within minimum seperation [ 24 pixel ]\n",
      "\n",
      "Large error on FWHM - returning plots for user diagnostic\n",
      "/Users/seanbrennan/miniconda3/envs/autophot/lib/python3.7/site-packages/matplotlib/axes/_base.py:2283: UserWarning: Warning: converting a masked element to nan.\n",
      "  xys = np.asarray(xys)\n",
      "/Users/seanbrennan/miniconda3/envs/autophot/lib/python3.7/site-packages/matplotlib/axes/_base.py:2283: UserWarning: Warning: converting a masked element to nan.\n",
      "  xys = np.asarray(xys)\n",
      "\n",
      "FWHM: 5.082 +/- 2.157 [ pixels ]\n",
      "\n",
      "Seeing: 1.540 [ arcsec ]\n",
      "Aperture size: 8.6 pixels\n",
      "Aperture correction: -0.032 +/- 0.017 [ mag ]\n",
      "Catalog found for target_ra_244_dec_22\n",
      "Catalog: SDSS \n",
      "File: target_ra_244_dec_22_r_0.25\n",
      "Catalog length: 7958\n",
      "Removed 7021 sources fainter than cutoff [20 mag]\n",
      "Using Gaussian Profile for fitting\n",
      "Catalog Length: 87\n"
     ]
    },
    {
     "name": "stdout",
     "output_type": "stream",
     "text": [
      "\n",
      "+----------------------------------------------+\n",
      "|Searching for catalog for target_ra_244_dec_22|\n",
      "+----------------------------------------------+\n",
      "\n",
      "\n",
      "+---------------------------------+\n",
      "|Matching catalog sources to image|\n",
      "+---------------------------------+\n",
      "\n",
      "Removed 595 sources too close to boundary or off image\n",
      "Matching catalog to image: 84 / 87 :: Useful sources 83 / 87 "
     ]
    },
    {
     "name": "stderr",
     "output_type": "stream",
     "text": [
      "\n",
      "Median offset: 2.1 [ pixels ] / 0.6 [ arcsec ]\n"
     ]
    },
    {
     "name": "stdout",
     "output_type": "stream",
     "text": [
      "\r",
      "Matching catalog to image: 85 / 87 :: Useful sources 84 / 87 \r",
      "Matching catalog to image: 86 / 87 :: Useful sources 85 / 87 \r",
      "Matching catalog to image: 87 / 87 :: Useful sources 86 / 87   .. done\n",
      "\n",
      "Broken cutouts: 0\n",
      "Not in correct location: 0\n",
      "Not detected: 1\n",
      "Saturated: 0\n",
      "Error: 0\n",
      "\n",
      "\n",
      "+-------------------------------------------+\n",
      "|Building PSF model using stars in the field|\n",
      "+-------------------------------------------+\n",
      "\n"
     ]
    },
    {
     "name": "stderr",
     "output_type": "stream",
     "text": [
      "Residual table updated: 1 / 10 \n",
      "\tSNR: 294 :: FWHM fitted 4.990\n",
      "Residual table updated: 2 / 10 \n",
      "\tSNR: 215 :: FWHM fitted 4.947\n",
      "Residual table updated: 3 / 10 \n",
      "\tSNR: 175 :: FWHM fitted 4.961\n",
      "Residual table updated: 4 / 10 \n",
      "\tSNR: 170 :: FWHM fitted 4.898\n",
      "Residual table updated: 5 / 10 \n",
      "\tSNR: 169 :: FWHM fitted 4.947\n",
      "Residual table updated: 6 / 10 \n",
      "\tSNR: 158 :: FWHM fitted 4.975\n",
      "Residual table updated: 7 / 10 \n",
      "\tSNR: 136 :: FWHM fitted 4.917\n",
      "Residual table updated: 8 / 10 \n",
      "\tSNR: 103 :: FWHM fitted 4.934\n",
      "Residual table updated: 9 / 10 \n",
      "\tSNR: 100 :: FWHM fitted 4.900\n",
      "Residual table updated: 10 / 10 \n",
      "\tSNR: 95 :: FWHM fitted 4.945\n",
      "\n",
      "PSF built using 10 sources\n",
      "\n",
      "Unity PSF: 29.8 [counts] \n",
      "Unity Residual table: 2.1 [counts] \n",
      "Using PSF Photometry on Sequence Stars\n",
      "Approx PSF mag -11.305 mag\n"
     ]
    },
    {
     "name": "stdout",
     "output_type": "stream",
     "text": [
      "PSF model saved as: /Users/seanbrennan/Desktop/autophot_host_subtraction_example_REDUCED/transient_with_host/PSF_model_transient_with_host_APT.fits\n",
      "\n",
      "+-------------------+\n",
      "|Measuring PSF model|\n",
      "+-------------------+\n",
      "\n",
      "\n",
      "+-----------------------------------+\n",
      "|Fitting PSF to sources in the image|\n",
      "+-----------------------------------+\n",
      "\n",
      "Fitting PSF to source: 86 / 86 "
     ]
    },
    {
     "name": "stderr",
     "output_type": "stream",
     "text": [
      "WARNING: Input data contains invalid values (NaNs or infs), which were automatically clipped. [astropy.stats.sigma_clipping]\n",
      "Input data contains invalid values (NaNs or infs), which were automatically clipped.\n",
      "\n",
      "Mean g-band zeropoint: 27.916 +/- 0.024 \n",
      "\n"
     ]
    },
    {
     "name": "stdout",
     "output_type": "stream",
     "text": [
      "\n",
      "+-----------------------+\n",
      "|Finding Zeropoint value|\n",
      "+-----------------------+\n",
      "\n",
      "Checking for suitable catalog sources\n",
      "Removed 85 sources lower than SNR of 10.0\n"
     ]
    },
    {
     "name": "stderr",
     "output_type": "stream",
     "text": [
      "Looking for User template in /Users/seanbrennan/Desktop/autophot_host_subtraction_example/templates\n",
      "Template filepath: /Users/seanbrennan/Desktop/autophot_host_subtraction_example/templates/gp_template/template_with_host.fits \n",
      "Aligning via WCS with reproject_interp\n",
      "Template smaller than image, cropping to exlcude zeros\n",
      "Trimmed template shape:(1957 1938)\n",
      "Trimmed image shape:(1957 1938)\n",
      "\n",
      "Image subtracion\n",
      "Performing image subtraction using HOTPANTS\n",
      "HOTPANTS finished: 34s\n",
      "Subtraction saved as transient_with_host_APT_image_cutout_subtraction\n",
      "Target photometry on subtracted image\n",
      "Setting target background to zero in template subtraction image\n"
     ]
    },
    {
     "name": "stdout",
     "output_type": "stream",
     "text": [
      "\n",
      "+-----------------------------------------------+\n",
      "|Performing PSF photometry on at target location|\n",
      "+-----------------------------------------------+\n",
      "\n"
     ]
    },
    {
     "name": "stderr",
     "output_type": "stream",
     "text": [
      "Setting target background to zero in template subtraction image\n",
      "Approximate Target SNR: 8.8\n",
      "SNR = 9 - skipping limiting magnitude\n",
      "Pixel Offset: 1.979\n",
      "Limiting Magnitude: skipped\n",
      "Target Detection probability: 99 %\n",
      "Target flux: 476.288 +/- 16.250 [counts/s]\n",
      "Noise: 423.790 [counts/s]\n",
      "Target SNR: 8.843 +/- 0.116\n",
      "Instrumental Magnitude: -6.695 +/- 0.057\n",
      "Zeropoint: 27.916 +/- 0.024\n",
      "Target Magnitude: 21.222 +/- 0.175 \n",
      "\n",
      "*** Transient well detected ***\n",
      "\n",
      "Time Taken [ 31807 ]: 101s\n",
      "Sucess: transient_with_host_APT.fits :: PID 31807 \n",
      "\n"
     ]
    },
    {
     "name": "stdout",
     "output_type": "stream",
     "text": [
      "Error from multlocation [10] recovery: 0.044 [mag]\n",
      "\n",
      "---\n",
      "\n",
      "Files that failed : []\n",
      "\n",
      "DONE\n",
      "\n",
      "Done - Time Taken: 101.4\n"
     ]
    }
   ],
   "source": [
    "run_automatic_autophot(autophot_input)"
   ]
  },
  {
   "cell_type": "markdown",
   "metadata": {},
   "source": [
    "Lets check the host-subtracted image and transient location \n",
    "\n",
    "<div class=\"alert alert-success\">\n",
    "  <strong>Success!</strong> AT2018cow is now clearly seen with little/no contamination from any unwanted flux. We get a g-band magnitude of 21.226 +/- 0.060  [mag]. Using HOTPANTS the code took 86s\n",
    "</div>"
   ]
  },
  {
   "cell_type": "code",
   "execution_count": 16,
   "metadata": {},
   "outputs": [
    {
     "data": {
      "image/png": "[encoded data removed]",
      "text/plain": [
       "<Figure size 720x432 with 2 Axes>"
      ]
     },
     "metadata": {
      "needs_background": "light"
     },
     "output_type": "display_data"
    }
   ],
   "source": [
    "fname = os.path.basename(fpath)\n",
    "output_dir = dirpath+'_REDUCED/'+fname.replace('.fits','')\n",
    "host_subtracted_fpath = os.path.join(output_dir,fname.replace('.fits','_APT_image_cutout_subtraction.fits'))\n",
    "\n",
    "# We will plot out the image \n",
    "import matplotlib.pyplot as plt\n",
    "from astropy.visualization import ImageNormalize,SquaredStretch,ZScaleInterval\n",
    "\n",
    "\n",
    "# autophot functions to find image data and header from fits files\n",
    "from autophot.packages.functions import getimage\n",
    "from autophot.packages.functions import getheader\n",
    "\n",
    "# To retrieve the WCS information from this image\n",
    "from astropy import wcs\n",
    "from astropy.coordinates import SkyCoord \n",
    "\n",
    "# image\n",
    "data = getimage(host_subtracted_fpath)\n",
    "\n",
    "# header\n",
    "header = getheader(host_subtracted_fpath)\n",
    "\n",
    "# Create an ImageNormalize object\n",
    "vmin,vmax = (ZScaleInterval(nsamples = 1000)).get_limits(data)\n",
    "\n",
    "# WCS information of image\n",
    "w = wcs.WCS(header)\n",
    "\n",
    "# get pixel coordinates of this source\n",
    "c = SkyCoord(ra,dec , unit=\"deg\") \n",
    "x_pix,y_pix = w.all_world2pix(c.ra.degree, c.dec.degree, 1)\n",
    "\n",
    "\n",
    "# plot image\n",
    "fig = plt.figure(figsize = (10,6))\n",
    "fig.suptitle('Host Subtraction using HOTPANTS')\n",
    "ax1 = fig.add_subplot(121)\n",
    "ax2 = fig.add_subplot(122)\n",
    "\n",
    "ax1.imshow(data,\n",
    "          vmin = vmin,\n",
    "          vmax = vmax,\n",
    "          origin = 'lower',\n",
    "          cmap = 'viridis')\n",
    "\n",
    "ax1.scatter(x_pix,y_pix,\n",
    "            marker = 'o',\n",
    "            facecolor = 'none',\n",
    "            edgecolor = 'r',\n",
    "            s = 50)\n",
    "\n",
    "# Plot a close up cutout of the source too\n",
    "cutout_size = 15\n",
    "cutout = data[int(y_pix-cutout_size):int(y_pix+cutout_size),\n",
    "              int(x_pix-cutout_size):int(x_pix+cutout_size)]\n",
    "\n",
    "ax2.imshow(cutout,\n",
    "           origin = 'lower',\n",
    "           cmap = 'viridis')\n",
    "\n",
    "ax2.scatter(cutout_size,cutout_size,\n",
    "            marker = 'o',\n",
    "            facecolor = 'none',\n",
    "            edgecolor = 'r',\n",
    "            s = 50)\n",
    "\n",
    "plt.show()"
   ]
  },
  {
   "cell_type": "markdown",
   "metadata": {},
   "source": [
    "<h2 align=\"center\">Using ZOGY with AutoPHoT</h2> \n",
    "\n",
    "As an alternative to HOTPANTS, AutoPHoT is also setup to use <a href=\"https://arxiv.org/abs/1601.02655\">ZOGY</a> (more specifically  <a href=\"https://github.com/dguevel/PyZOGY\">PyZOGY</a> )"
   ]
  },
  {
   "cell_type": "code",
   "execution_count": 17,
   "metadata": {},
   "outputs": [],
   "source": [
    "autophot_input['template_subtraction']['use_zogy'] = True"
   ]
  },
  {
   "cell_type": "code",
   "execution_count": null,
   "metadata": {},
   "outputs": [
    {
     "name": "stderr",
     "output_type": "stream",
     "text": [
      "\n",
      "User instrument database: /Users/seanbrennan/Desktop/autophot_host_subtraction_example/telescope.yml\n",
      "\n",
      "Number of files: 1\n",
      "\n",
      "1 telescope(s) detected - checking header keywords\n",
      "\n",
      "File: transient_with_host_APT.fits - PID: 31807\n",
      "Start Time: 2022-01-05 15:27:52.544514\n"
     ]
    },
    {
     "name": "stdout",
     "output_type": "stream",
     "text": [
      "\n",
      "        _       _       ___ _  _    _____\n",
      "       /_\\ _  _| |_ ___| _ \\ || |__|_   _|\n",
      "      / _ \\ || |  _/ _ \\  _/ __ / _ \\| |\n",
      "     /_/ \\_\\_,_|\\__\\___/_| |_||_\\___/|_|\n",
      "    \n",
      "     ---------------------------------------\n",
      "        Automated Photometry of Transients\n",
      "        S. J. Brennan et al. 2021 \n",
      "        Please provide feedback/bugs to:\n",
      "        Email: sean.brennan2@ucdconnect.ie\n",
      "    ---------------------------------------\n",
      "Directory of fits file: /Users/seanbrennan/Desktop/autophot_host_subtraction_example\n",
      "Found Telescopes:\n",
      "\n",
      " - Liverpool Telescope\n",
      "\n",
      "-> Telescope check complete\n",
      "\n",
      "Checking Filter keywords and database\n",
      "\n",
      "-> Filter check complete\n",
      "\n",
      "Checking Filter information for each image\n",
      "\n",
      "Files removed - Wrong Image Type: 0\n",
      "\n",
      "Files removed - No/Wrong filter(s): 0\n",
      "Filters not included: []\n",
      "\n",
      "\n",
      "Files removed: 0\n",
      "\n",
      "+-----------+\n",
      "|File: 1 / 1|\n",
      "+-----------+\n",
      "\n"
     ]
    },
    {
     "name": "stderr",
     "output_type": "stream",
     "text": [
      "Filter keyoward used: FILTER\n",
      "Telescope: Liverpool Telescope\n",
      "Filter: g\n",
      "MJD: 58346.923\n",
      "Date of Observation : 2018-08-16\n",
      "Read Noise: 0.0 [e^- /pixel]\n",
      "GAIN: 1.0 [e^- /count]\n",
      "Exposure time: 4 [s] \n",
      "Detecting/removing cosmic ray sources\n"
     ]
    },
    {
     "name": "stdout",
     "output_type": "stream",
     "text": [
      "Starting Astroscrappy ... "
     ]
    },
    {
     "name": "stderr",
     "output_type": "stream",
     "text": [
      "Contaminated pixels with Cosmic rays removed: 296\n",
      "Cosmic rays removed - image updated\n",
      "Astrometry.net already excuted\n",
      "\n",
      "Searching for FWHM\n",
      "Using Gaussian Profile for fitting\n"
     ]
    },
    {
     "name": "stdout",
     "output_type": "stream",
     "text": [
      "\n",
      "+-------------------------------+\n",
      "|Finding Full Width Half Maximum|\n",
      "+-------------------------------+\n",
      "\n"
     ]
    },
    {
     "name": "stderr",
     "output_type": "stream",
     "text": [
      "\n",
      "Number of sources before cleaning [ 25.0 sigma ]: 25 \n",
      "Updating search FWHM value\n"
     ]
    },
    {
     "name": "stdout",
     "output_type": "stream",
     "text": [
      "Updated guess for FWHM: 5.0 pixels \n"
     ]
    },
    {
     "name": "stderr",
     "output_type": "stream",
     "text": [
      "\n",
      "Number of sources before cleaning [ 25.0 sigma ]: 84 \n",
      "Removed 6 sources near boundary\n",
      "Removed 12 crowded sources\n"
     ]
    },
    {
     "name": "stdout",
     "output_type": "stream",
     "text": [
      "Fitting source for FWHM: 66/66   "
     ]
    },
    {
     "name": "stderr",
     "output_type": "stream",
     "text": [
      "Removed 8 FWHM outliers\n",
      "Removed 22 median outliers\n",
      "Useable sources found [ 25 sigma ]: 66\n",
      "Removes 0 sources within minimum seperation [ 24 pixel ]\n",
      "\n",
      "Large error on FWHM - returning plots for user diagnostic\n",
      "/Users/seanbrennan/miniconda3/envs/autophot/lib/python3.7/site-packages/matplotlib/axes/_base.py:2283: UserWarning: Warning: converting a masked element to nan.\n",
      "  xys = np.asarray(xys)\n",
      "/Users/seanbrennan/miniconda3/envs/autophot/lib/python3.7/site-packages/matplotlib/axes/_base.py:2283: UserWarning: Warning: converting a masked element to nan.\n",
      "  xys = np.asarray(xys)\n",
      "\n",
      "FWHM: 5.173 +/- 2.238 [ pixels ]\n",
      "\n",
      "Seeing: 1.568 [ arcsec ]\n",
      "Aperture size: 8.8 pixels\n",
      "Aperture correction: -0.031 +/- 0.017 [ mag ]\n",
      "Catalog found for target_ra_244_dec_22\n",
      "Catalog: SDSS \n",
      "File: target_ra_244_dec_22_r_0.25\n",
      "Catalog length: 7958\n",
      "Removed 7021 sources fainter than cutoff [20 mag]\n",
      "Using Gaussian Profile for fitting\n",
      "Catalog Length: 87\n"
     ]
    },
    {
     "name": "stdout",
     "output_type": "stream",
     "text": [
      "\n",
      "+----------------------------------------------+\n",
      "|Searching for catalog for target_ra_244_dec_22|\n",
      "+----------------------------------------------+\n",
      "\n",
      "\n",
      "+---------------------------------+\n",
      "|Matching catalog sources to image|\n",
      "+---------------------------------+\n",
      "\n",
      "Removed 595 sources too close to boundary or off image\n",
      "Matching catalog to image: 85 / 87 :: Useful sources 84 / 87 "
     ]
    },
    {
     "name": "stderr",
     "output_type": "stream",
     "text": [
      "\n",
      "Median offset: 2.1 [ pixels ] / 0.6 [ arcsec ]\n",
      "Residual table updated: 1 / 10 \n",
      "\tSNR: 293 :: FWHM fitted 4.990\n",
      "Residual table updated: 2 / 10 \n",
      "\tSNR: 174 :: FWHM fitted 4.961\n"
     ]
    },
    {
     "name": "stdout",
     "output_type": "stream",
     "text": [
      "\r",
      "Matching catalog to image: 86 / 87 :: Useful sources 85 / 87 \r",
      "Matching catalog to image: 87 / 87 :: Useful sources 86 / 87   .. done\n",
      "\n",
      "Broken cutouts: 0\n",
      "Not in correct location: 0\n",
      "Not detected: 1\n",
      "Saturated: 0\n",
      "Error: 0\n",
      "\n",
      "\n",
      "+-------------------------------------------+\n",
      "|Building PSF model using stars in the field|\n",
      "+-------------------------------------------+\n",
      "\n"
     ]
    },
    {
     "name": "stderr",
     "output_type": "stream",
     "text": [
      "Residual table updated: 3 / 10 \n",
      "\tSNR: 169 :: FWHM fitted 4.898\n",
      "Residual table updated: 4 / 10 \n",
      "\tSNR: 168 :: FWHM fitted 4.947\n",
      "Residual table updated: 5 / 10 \n",
      "\tSNR: 157 :: FWHM fitted 4.975\n",
      "Residual table updated: 6 / 10 \n",
      "\tSNR: 135 :: FWHM fitted 4.917\n",
      "Residual table updated: 7 / 10 \n",
      "\tSNR: 102 :: FWHM fitted 4.934\n",
      "Residual table updated: 8 / 10 \n",
      "\tSNR: 99 :: FWHM fitted 4.900\n",
      "Residual table updated: 9 / 10 \n",
      "\tSNR: 94 :: FWHM fitted 4.945\n",
      "Residual table updated: 10 / 10 \n",
      "\tSNR: 93 :: FWHM fitted 4.929\n",
      "\n",
      "PSF built using 10 sources\n",
      "\n",
      "Unity PSF: 29.9 [counts] \n",
      "Unity Residual table: 2.2 [counts] \n",
      "Using PSF Photometry on Sequence Stars\n",
      "Approx PSF mag -11.307 mag\n"
     ]
    },
    {
     "name": "stdout",
     "output_type": "stream",
     "text": [
      "PSF model saved as: /Users/seanbrennan/Desktop/autophot_host_subtraction_example_REDUCED/transient_with_host/PSF_model_transient_with_host_APT.fits\n",
      "\n",
      "+-------------------+\n",
      "|Measuring PSF model|\n",
      "+-------------------+\n",
      "\n",
      "\n",
      "+-----------------------------------+\n",
      "|Fitting PSF to sources in the image|\n",
      "+-----------------------------------+\n",
      "\n",
      "Fitting PSF to source: 85 / 86 "
     ]
    },
    {
     "name": "stderr",
     "output_type": "stream",
     "text": [
      "WARNING: Input data contains invalid values (NaNs or infs), which were automatically clipped. [astropy.stats.sigma_clipping]\n",
      "Input data contains invalid values (NaNs or infs), which were automatically clipped.\n",
      "\n",
      "Mean g-band zeropoint: 27.918 +/- 0.024 \n",
      "\n"
     ]
    },
    {
     "name": "stdout",
     "output_type": "stream",
     "text": [
      "\r",
      "Fitting PSF to source: 86 / 86 \n",
      "+-----------------------+\n",
      "|Finding Zeropoint value|\n",
      "+-----------------------+\n",
      "\n",
      "Checking for suitable catalog sources\n",
      "Removed 84 sources lower than SNR of 10.0\n"
     ]
    },
    {
     "name": "stderr",
     "output_type": "stream",
     "text": [
      "Looking for User template in /Users/seanbrennan/Desktop/autophot_host_subtraction_example/templates\n",
      "Template filepath: /Users/seanbrennan/Desktop/autophot_host_subtraction_example/templates/gp_template/template_with_host.fits \n",
      "Aligning via WCS with reproject_interp\n",
      "Template smaller than image, cropping to exlcude zeros\n",
      "Trimmed template shape:(1957 1938)\n",
      "Trimmed image shape:(1957 1938)\n",
      "\n",
      "Image subtracion\n",
      "Performing image subtraction using PyZOGY\n",
      "Using Image : /Users/seanbrennan/Desktop/autophot_host_subtraction_example_REDUCED/transient_with_host/transient_with_host_APT_image_cutout.fits\n",
      "Using Image PSF: /Users/seanbrennan/Desktop/autophot_host_subtraction_example_REDUCED/transient_with_host/PSF_model_transient_with_host_APT.fits\n",
      "Using Template : /Users/seanbrennan/Desktop/autophot_host_subtraction_example_REDUCED/transient_with_host/transient_with_host_APT_template.fits\n",
      "Using Template PSF: /Users/seanbrennan/Desktop/autophot_host_subtraction_example/templates/gp_template/PSF_model_template_with_host.fits\n",
      "\n",
      "Running Zogy...\n",
      "\n",
      "/Users/seanbrennan/Desktop/autophot_host_subtraction_example_REDUCED/transient_with_host/transient_with_host_APT_image_cutout.fits:Shifted PSF from [21 21] to [0 0]\n",
      "/Users/seanbrennan/Desktop/autophot_host_subtraction_example_REDUCED/transient_with_host/transient_with_host_APT_image_cutout.fits:Masked 0 saturated pixels\n",
      "/Users/seanbrennan/Desktop/autophot_host_subtraction_example_REDUCED/transient_with_host/transient_with_host_APT_image_cutout.fits:Global median is 304.4674072265625\n",
      "/Users/seanbrennan/Desktop/autophot_host_subtraction_example_REDUCED/transient_with_host/transient_with_host_APT_image_cutout.fits:Global standard deviation is 6.187968476674211\n",
      "/Users/seanbrennan/Desktop/autophot_host_subtraction_example_REDUCED/transient_with_host/transient_with_host_APT_image_cutout.fits:Interpolated 0 pixels\n",
      "/Users/seanbrennan/Desktop/autophot_host_subtraction_example_REDUCED/transient_with_host/transient_with_host_APT_template.fits:Shifted PSF from [20 20] to [0 0]\n",
      "/Users/seanbrennan/Desktop/autophot_host_subtraction_example_REDUCED/transient_with_host/transient_with_host_APT_template.fits:Masked 0 saturated pixels\n",
      "/Users/seanbrennan/Desktop/autophot_host_subtraction_example_REDUCED/transient_with_host/transient_with_host_APT_template.fits:Global median is 86.53247337502458\n",
      "/Users/seanbrennan/Desktop/autophot_host_subtraction_example_REDUCED/transient_with_host/transient_with_host_APT_template.fits:Global standard deviation is 4.061979364198531\n",
      "/Users/seanbrennan/Desktop/autophot_host_subtraction_example_REDUCED/transient_with_host/transient_with_host_APT_template.fits:Interpolated 0 pixels\n",
      ":Shifted PSF from [21 21] to [0 0]\n",
      ":Shifted PSF from [20 20] to [0 0]\n"
     ]
    }
   ],
   "source": [
    "run_automatic_autophot(autophot_input)"
   ]
  },
  {
   "cell_type": "code",
   "execution_count": null,
   "metadata": {},
   "outputs": [],
   "source": [
    "fname = os.path.basename(fpath)\n",
    "output_dir = dirpath+'_REDUCED/'+fname.replace('.fits','')\n",
    "host_subtracted_fpath = os.path.join(output_dir,fname.replace('.fits','_APT_image_cutout_subtraction.fits'))\n",
    "\n",
    "# We will plot out the image \n",
    "import matplotlib.pyplot as plt\n",
    "from astropy.visualization import ImageNormalize,SquaredStretch,ZScaleInterval\n",
    "\n",
    "\n",
    "# autophot functions to find image data and header from fits files\n",
    "from autophot.packages.functions import getimage\n",
    "from autophot.packages.functions import getheader\n",
    "\n",
    "# To retrieve the WCS information from this image\n",
    "from astropy import wcs\n",
    "from astropy.coordinates import SkyCoord \n",
    "\n",
    "# image\n",
    "data = getimage(host_subtracted_fpath)\n",
    "\n",
    "# header\n",
    "header = getheader(host_subtracted_fpath)\n",
    "\n",
    "# Create an ImageNormalize object\n",
    "vmin,vmax = (ZScaleInterval(nsamples = 1000)).get_limits(data)\n",
    "\n",
    "# WCS information of image\n",
    "w = wcs.WCS(header)\n",
    "\n",
    "# get pixel coordinates of this source\n",
    "c = SkyCoord(ra,dec , unit=\"deg\") \n",
    "x_pix,y_pix = w.all_world2pix(c.ra.degree, c.dec.degree, 1)\n",
    "\n",
    "# plot image\n",
    "fig = plt.figure(figsize = (10,6))\n",
    "\n",
    "fig.suptitle('Host Subtraction using PyZOGY')\n",
    "ax1 = fig.add_subplot(121)\n",
    "ax2 = fig.add_subplot(122)\n",
    "\n",
    "ax1.imshow(data,\n",
    "          vmin = vmin,\n",
    "          vmax = vmax,\n",
    "          origin = 'lower',\n",
    "          cmap = 'viridis')\n",
    "\n",
    "ax1.scatter(x_pix,y_pix,\n",
    "            marker = 'o',\n",
    "            facecolor = 'none',\n",
    "            edgecolor = 'r',\n",
    "            s = 50)\n",
    "\n",
    "# Plot a close up cutout of the source too\n",
    "cutout_size = 15\n",
    "cutout = data[int(y_pix-cutout_size):int(y_pix+cutout_size),\n",
    "              int(x_pix-cutout_size):int(x_pix+cutout_size)]\n",
    "\n",
    "ax2.imshow(cutout,\n",
    "           origin = 'lower',\n",
    "           cmap = 'viridis')\n",
    "\n",
    "ax2.scatter(cutout_size,cutout_size,\n",
    "            marker = 'o',\n",
    "            facecolor = 'none',\n",
    "            edgecolor = 'r',\n",
    "            s = 50)\n",
    "plt.show()\n"
   ]
  },
  {
   "cell_type": "markdown",
   "metadata": {},
   "source": [
    "<div class=\"alert alert-success\">\n",
    "  <strong>Success!</strong> Again AT2018cow is well isolated. Using Zogy the code took 96s. We get a g-band magnitude of 21.151 +/- 0.057  [mag], slightly different to HOTPANTS but within error!\n",
    "</div>\n"
   ]
  }
 ],
 "metadata": {
  "kernelspec": {
   "display_name": "Python 3 (ipykernel)",
   "language": "python",
   "name": "python3"
  },
  "language_info": {
   "codemirror_mode": {
    "name": "ipython",
    "version": 3
   },
   "file_extension": ".py",
   "mimetype": "text/x-python",
   "name": "python",
   "nbconvert_exporter": "python",
   "pygments_lexer": "ipython3",
   "version": "3.7.12"
  }
 },
 "nbformat": 4,
 "nbformat_minor": 4
}
