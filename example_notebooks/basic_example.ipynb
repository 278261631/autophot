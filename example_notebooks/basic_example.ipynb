{
 "cells": [
  {
   "cell_type": "markdown",
   "metadata": {},
   "source": [
    "<h1 align=\"center\"> How to use the AutoPhOT code to perform photometry on an image</h1> \n",
    "\n",
    "Before running this noteook, make sure you have AutoPhoT installed ([check here for details](https://github.com/Astro-Sean/autophot)).\n",
    "\n",
    "This notebook will use pre-packaged fits images for demonstration purposes. We will descirbe how to use your own data."
   ]
  },
  {
   "cell_type": "code",
   "execution_count": 1,
   "metadata": {},
   "outputs": [],
   "source": [
    "# First import autophot to ensure it is installed correctly\n",
    "import autophot"
   ]
  },
  {
   "cell_type": "markdown",
   "metadata": {},
   "source": [
    "AutoPhOT requires some instructions to know where the files are and where the transient is.\n",
    "\n",
    "<div class=\"alert alert-success\">\n",
    "Many of these are initial guesses and will be changed during image analysis - although\n",
    "    <a href=\"https://autophot.readthedocs.io/en/latest/\">check here</a> for full list of commands.\n",
    "</div>\n"
   ]
  },
  {
   "cell_type": "code",
   "execution_count": 2,
   "metadata": {},
   "outputs": [
    {
     "name": "stdout",
     "output_type": "stream",
     "text": [
      "Default input loaded in from: \n",
      "/Users/seanbrennan/miniconda3/envs/autophot/lib/python3.7/site-packages/autophot/databases/default_input.yml\n"
     ]
    }
   ],
   "source": [
    "# Load default input yaml file\n",
    "from autophot.prep_input import load\n",
    "autophot_input = load()"
   ]
  },
  {
   "cell_type": "markdown",
   "metadata": {},
   "source": [
    "We will now use a pre-packaged fits image for the purpose of demonstration. \n",
    "\n",
    "<div class=\"alert alert-danger\">\n",
    "  You can ignore/delete the following cell if you are using your own data!\n",
    "</div>\n"
   ]
  },
  {
   "cell_type": "code",
   "execution_count": 3,
   "metadata": {},
   "outputs": [
    {
     "name": "stdout",
     "output_type": "stream",
     "text": [
      "Successful copy of example.fits written to: /Users/seanbrennan/Desktop/autophot_example/example.fits\n",
      "\n",
      "We are looking for fits images in the folder: /Users/seanbrennan/Desktop/autophot_example\n"
     ]
    }
   ],
   "source": [
    "# Built in function to move some example data onto the users desktop\n",
    "from autophot.example import save_example_data\n",
    "fpath = save_example_data.save_fits_to_desktop()\n",
    "\n",
    "# Lets get the parent dictionary of this new example image\n",
    "import os\n",
    "dirpath = os.path.dirname(fpath)\n",
    "\n",
    "print('\\nWe are looking for fits images in the folder: %s' % dirpath)"
   ]
  },
  {
   "cell_type": "markdown",
   "metadata": {},
   "source": [
    "<h2 align=\"center\">Using your own Data</h2> \n",
    "\n",
    "If you are using your own data, update the **fits_dir** value in the autophot_input dictionary.\n",
    "\n",
    "AutoPhOT will look though (using os.walk) the folder searching for images that end with .fits,.fts or .fit. \n",
    "\n",
    "For example:\n",
    "    dirpath = '/Users/yourname/Desktop/SN1987A'\n",
    "\n",
    "\n",
    "<div class=\"alert alert-success\" role=\"alert\">\n",
    "The fits_dir can contain as many images as you like from different filters, different telescopes, etc. Folder structure is taken into account. \n",
    "\n",
    "However all images should contain the same target e.g. the same supernova.\n",
    "</div>"
   ]
  },
  {
   "cell_type": "code",
   "execution_count": 4,
   "metadata": {},
   "outputs": [],
   "source": [
    "autophot_input['fits_dir'] = dirpath"
   ]
  },
  {
   "cell_type": "markdown",
   "metadata": {},
   "source": [
    "<h2 align=\"center\">Unique keywords found in different headers</h2> \n",
    "\n",
    "AutoPhOT will build a database of telescope information that is saved to the users local machine.\n",
    "\n",
    "<div class=\"alert alert-danger\" role=\"alert\">\n",
    "  An image is required to have the *Telescop* and *Instrume* keywords, else the code will fail.\n",
    "</div>\n",
    "\n",
    "*telescope.yml* will be created and keeps track of different file naming conventions e.g. Filter header keys, Gain key etc. This file is stored in **wdir**. \n",
    "\n",
    "For this example we will set **wdir** to be the same directory as our example image. \n",
    "\n",
    "<div class=\"alert alert-success\" role=\"alert\">\n",
    "  In practice we recommend wdir be set to a generic directary .i.e not associated with any specific database.\n",
    "    \n",
    "  For example autophot_input['wdir'] = /Users/yourname/Desktop/AutoPhoT_database\n",
    "</div>"
   ]
  },
  {
   "cell_type": "code",
   "execution_count": 5,
   "metadata": {},
   "outputs": [
    {
     "name": "stdout",
     "output_type": "stream",
     "text": [
      "Setting work directory (wdir) to: /Users/seanbrennan/Desktop/autophot_example\n"
     ]
    }
   ],
   "source": [
    "print('Setting work directory (wdir) to: %s' % dirpath)\n",
    "\n",
    "# set working directory to the parent directory of our fits image\n",
    "autophot_input['wdir'] = dirpath"
   ]
  },
  {
   "cell_type": "markdown",
   "metadata": {},
   "source": [
    "   <h2 align=\"center\">What catalog to use?</h2> \n",
    "\n",
    "Currenlty AutoPhot needs to be told what catalog to use: \n",
    "\n",
    "\n",
    "* Currently available:\n",
    "    - Pan-STARRS,\n",
    "    - APASS,\n",
    "    - 2MASS\n",
    "    - Skymapper\n",
    "    - SDSS\n",
    " \n",
    " \n",
    " <div class=\"alert alert-success\" role=\"alert\">\n",
    "    To use your own catalog, check here for <a href=\"https://github.com/Astro-Sean/autophot/blob/master/example_notebooks/add_your_catalog_example.ipynb\">example of using your own sequence stars</a>\n",
    "</div>"
   ]
  },
  {
   "cell_type": "code",
   "execution_count": 6,
   "metadata": {},
   "outputs": [],
   "source": [
    "# Options are skymapper, 2mass, pan_starrs, sdss, apass \n",
    "autophot_input['catalog']['use_catalog'] = 'skymapper'"
   ]
  },
  {
   "cell_type": "markdown",
   "metadata": {},
   "source": [
    "   <h2 align=\"center\">Where are we looking?</h2> \n",
    "\n",
    "AutoPhoT needs to know where to perform transient astronomy. This can be done in two ways:\n",
    "\n",
    "\n",
    "* **target_name** give the TNS IAU name ignore SN/AT e.g. SN 1987A => 1987A. \n",
    "\n",
    "* **target_ra**/**target_dec** give ra/dec in degrees (all coords in AutoPhOT use degrees).\n",
    "\n",
    "For this example we will use the Ra and Dec of a known star in the image.\n",
    "\n",
    "If we know the IAU name we can update target_name (leave out the prefix i.e. SN or AT). \n",
    "For example: syntax['target_name'] = 1987A\n",
    "\n",
    "<div class=\"alert alert-warning\" role=\"alert\">\n",
    "  Using the target_name keyword requires access to the TNS server bot. Please see the <a href=\"https://www.wis-tns.org/\">TNS website</a> for details.\n",
    "</div>\n"
   ]
  },
  {
   "cell_type": "code",
   "execution_count": 7,
   "metadata": {},
   "outputs": [
    {
     "name": "stdout",
     "output_type": "stream",
     "text": [
      "Performing photometry on source at ra/dec = 114.070433/-69.529716\n"
     ]
    }
   ],
   "source": [
    "# Position of a source in the image\n",
    "# This source is not a transient although it is close to the center of the galaxy (NGC 2442)\n",
    "ra = 114.070433\n",
    "dec = -69.529716\n",
    "\n",
    "autophot_input['target_ra'] = ra\n",
    "autophot_input['target_dec'] = dec\n",
    "\n",
    "print('Performing photometry on source at ra/dec = %.6f/%.6f' %  (ra,dec))"
   ]
  },
  {
   "cell_type": "markdown",
   "metadata": {},
   "source": [
    "<h3 align=\"center\">Lets display the image (not required)</h3> \n",
    "\n",
    "For the purpose of demonstartion, we will display the image in this notebook.\n"
   ]
  },
  {
   "cell_type": "code",
   "execution_count": 8,
   "metadata": {
    "scrolled": true
   },
   "outputs": [
    {
     "name": "stderr",
     "output_type": "stream",
     "text": [
      "WARNING: FITSFixedWarning: 'datfix' made the change 'Set DATE-OBS to '2020-01-01' from MJD-OBS'. [astropy.wcs.wcs]\n"
     ]
    },
    {
     "data": {
      "image/png": "[encoded data removed]",
      "text/plain": [
       "<Figure size 576x432 with 2 Axes>"
      ]
     },
     "metadata": {
      "needs_background": "light"
     },
     "output_type": "display_data"
    }
   ],
   "source": [
    "# We will plot out the image \n",
    "import matplotlib.pyplot as plt\n",
    "from astropy.visualization import ImageNormalize,SquaredStretch,ZScaleInterval\n",
    "\n",
    "\n",
    "# autophot functions to find image data and header from fits files\n",
    "from autophot.packages.functions import getimage\n",
    "from autophot.packages.functions import getheader\n",
    "\n",
    "# To retrieve the WCS information from this image\n",
    "from astropy import wcs\n",
    "from astropy.coordinates import SkyCoord \n",
    "\n",
    "# image\n",
    "data = getimage(fpath)\n",
    "\n",
    "# header\n",
    "header = getheader(fpath)\n",
    "\n",
    "# Create an ImageNormalize object\n",
    "vmin,vmax = (ZScaleInterval(nsamples = 1000)).get_limits(data)\n",
    "\n",
    "# WCS information of image\n",
    "w = wcs.WCS(header)\n",
    "\n",
    "# get pixel coordinates of this source\n",
    "c = SkyCoord(ra,dec , unit=\"deg\") \n",
    "x_pix,y_pix = w.all_world2pix(c.ra.degree, c.dec.degree, 1)\n",
    "\n",
    "\n",
    "# plot image\n",
    "fig = plt.figure(figsize = (8,6))\n",
    "ax1 = fig.add_subplot(121)\n",
    "ax2 = fig.add_subplot(122)\n",
    "\n",
    "ax1.imshow(data,\n",
    "          vmin = vmin,\n",
    "          vmax = vmax,\n",
    "          origin = 'lower',\n",
    "          cmap = 'viridis')\n",
    "\n",
    "ax1.scatter(x_pix,y_pix,\n",
    "            marker = 'o',\n",
    "            facecolor = 'none',\n",
    "            edgecolor = 'r',\n",
    "            s = 25)\n",
    "\n",
    "# Plot a close up cutout of the source too\n",
    "cutout_size = 15\n",
    "cutout = data[int(y_pix-cutout_size):int(y_pix+cutout_size),\n",
    "              int(x_pix-cutout_size):int(x_pix+cutout_size)]\n",
    "\n",
    "ax2.imshow(cutout,\n",
    "           origin = 'lower',\n",
    "           cmap = 'viridis')\n",
    "\n",
    "ax2.scatter(cutout_size,cutout_size,\n",
    "            marker = 'o',\n",
    "            facecolor = 'none',\n",
    "            edgecolor = 'r',\n",
    "            s = 25)\n",
    "\n",
    "\n",
    "plt.show()"
   ]
  },
  {
   "cell_type": "markdown",
   "metadata": {},
   "source": [
    "<h3 align=\"center\">Ready to go!</h3> \n",
    "\n",
    "That is it - we are ready to run the most basic version of AutoPhoT\n",
    "\n",
    "\n",
    "<div class=\"alert alert-danger\" role=\"alert\">\n",
    "  For this demonstration, example.fits has trusted wcs already in the header. AutoPhOT will detect wcs keywords (CRVAL1, CRVAL2, etc) and skip over this step. If the user wants to force new astrometry, regardless of what is already written, set **remove_wcs** to True.\n",
    "</div>\n",
    "\n",
    "\n",
    "<div class=\"alert alert-danger\" role=\"alert\">\n",
    "Before starting, AutoPhOT will run through all files and ensure all keywords are known. It will ask the user to clariy any non-standard keywords. This may take away from the automation side of things but such steps only need to be taken once and it allows smoother operations if working with many files.\n",
    "</div>\n",
    "\n",
    "\n",
    "For the purpose of this example there is no need in input scale_type or scale_units as we will not be needed for input into astrometry.net so user can type *skip*. You'll see that if you rerun the script it won't ask you for this parameters as it check the pre-existing keys beforehand.\n",
    "\n",
    "***We recommend you familirise yourself with this  example on how telescope.yml works see [here](https://github.com/Astro-Sean/autophot/blob/master/example_notebooks/example_call_database.ipynb) ***\n"
   ]
  },
  {
   "cell_type": "code",
   "execution_count": 9,
   "metadata": {},
   "outputs": [
    {
     "name": "stdout",
     "output_type": "stream",
     "text": [
      "\n",
      "        _       _       ___ _  _    _____\n",
      "       /_\\ _  _| |_ ___| _ \\ || |__|_   _|\n",
      "      / _ \\ || |  _/ _ \\  _/ __ / _ \\| |\n",
      "     /_/ \\_\\_,_|\\__\\___/_| |_||_\\___/|_|\n",
      "    \n",
      "     ---------------------------------------\n",
      "        Automated Photometry of Transients\n",
      "        S. J. Brennan et al. 2021 \n",
      "        Please provide feedback/bugs to:\n",
      "        Email: sean.brennan2@ucdconnect.ie\n",
      "    ---------------------------------------\n",
      "Directory of fits file: /Users/seanbrennan/Desktop/autophot_example\n",
      "Found Telescopes:\n",
      "\n",
      " - EXAMPLE_TELESCOPE\n",
      "\n",
      "-> Telescope check complete\n",
      "\n",
      "Checking Filter keywords and database\n",
      "\n",
      "-> Filter check complete\n",
      "\n",
      "Checking Filter information for each image\n",
      "\n",
      "Files removed - Wrong Image Type: 0\n",
      "\n",
      "Files removed - No/Wrong filter(s): 0\n",
      "Filters not included: []\n",
      "\n",
      "\n",
      "Files removed: 0\n",
      "\n",
      "+-----------+\n",
      "|File: 1 / 1|\n",
      "+-----------+\n",
      "\n"
     ]
    },
    {
     "name": "stderr",
     "output_type": "stream",
     "text": [
      "File: example_APT.fits - PID: 31797\n",
      "Start Time: 2022-01-05 15:25:49.189114\n",
      "Filter keyoward used: FIL_WHL1\n",
      "Telescope: EXAMPLE_TELESCOPE\n",
      "Filter: r\n",
      "MJD: 58849.000\n",
      "Date of Observation : 2020-01-01\n",
      "Read Noise: 0.0 [e^- /pixel]\n",
      "GAIN: 1.0 [e^- /count]\n",
      "Exposure time: 60 [s] \n",
      "Detecting/removing cosmic ray sources\n"
     ]
    },
    {
     "name": "stdout",
     "output_type": "stream",
     "text": [
      "Starting Astroscrappy ... "
     ]
    },
    {
     "name": "stderr",
     "output_type": "stream",
     "text": [
      "Contaminated pixels with Cosmic rays removed: 4048\n",
      "Cosmic rays removed - image updated\n",
      "WARNING: FITSFixedWarning: 'datfix' made the change 'Set DATE-OBS to '2020-01-01' from MJD-OBS'. [astropy.wcs.wcs]\n",
      "FITSFixedWarning: 'datfix' made the change 'Set DATE-OBS to '2020-01-01' from MJD-OBS'.\n",
      "WCS found\n",
      "\n",
      "Searching for FWHM\n",
      "Using Gaussian Profile for fitting\n"
     ]
    },
    {
     "name": "stdout",
     "output_type": "stream",
     "text": [
      "\n",
      "+-------------------------------+\n",
      "|Finding Full Width Half Maximum|\n",
      "+-------------------------------+\n",
      "\n"
     ]
    },
    {
     "name": "stderr",
     "output_type": "stream",
     "text": [
      "\n",
      "Number of sources before cleaning [ 25.0 sigma ]: 25 \n",
      "Updating search FWHM value\n"
     ]
    },
    {
     "name": "stdout",
     "output_type": "stream",
     "text": [
      "Updated guess for FWHM: 5.3 pixels \n"
     ]
    },
    {
     "name": "stderr",
     "output_type": "stream",
     "text": [
      "\n",
      "Number of sources before cleaning [ 25.0 sigma ]: 777 \n",
      "Too many sources - increasing threshold\n",
      "\n",
      "Number of sources before cleaning [ 50.0 sigma ]: 490 \n",
      "Too many sources - increasing threshold\n",
      "\n",
      "Number of sources before cleaning [ 100.0 sigma ]: 309 \n",
      "Too many sources - increasing threshold\n",
      "\n",
      "Number of sources before cleaning [ 200.0 sigma ]: 186 \n",
      "Removed 3 sources near boundary\n",
      "Removed 4 crowded sources\n"
     ]
    },
    {
     "name": "stdout",
     "output_type": "stream",
     "text": [
      "Fitting source for FWHM: 179/179  "
     ]
    },
    {
     "name": "stderr",
     "output_type": "stream",
     "text": [
      "Removed 21 saturated sources\n",
      "WARNING: Input data contains invalid values (NaNs or infs), which were automatically clipped. [astropy.stats.sigma_clipping]\n",
      "Input data contains invalid values (NaNs or infs), which were automatically clipped.\n",
      "Removed 22 FWHM outliers\n",
      "WARNING: Input data contains invalid values (NaNs or infs), which were automatically clipped. [astropy.stats.sigma_clipping]\n",
      "Input data contains invalid values (NaNs or infs), which were automatically clipped.\n",
      "Removed 53 median outliers\n",
      "Useable sources found [ 200 sigma ]: 179\n",
      "Removes 0 sources within minimum seperation [ 23 pixel ]\n",
      "\n",
      "FWHM: 4.621 +/- 0.148 [ pixels ]\n",
      "\n",
      "Seeing: 1.800 [ arcsec ]\n",
      "Aperture size: 7.9 pixels\n",
      "Aperture correction: -0.061 +/- 0.003 [ mag ]\n",
      "WARNING: FITSFixedWarning: 'datfix' made the change 'Set DATE-OBS to '2020-01-01' from MJD-OBS'. [astropy.wcs.wcs]\n",
      "FITSFixedWarning: 'datfix' made the change 'Set DATE-OBS to '2020-01-01' from MJD-OBS'.\n",
      "Catalog found for target_ra_114_dec_-70\n",
      "Catalog: SKYMAPPER \n",
      "File: target_ra_114_dec_-70_r_0.25\n",
      "Catalog length: 1622\n",
      "Removed 0 sources fainter than cutoff [20 mag]\n",
      "Using Gaussian Profile for fitting\n",
      "Catalog Length: 770\n"
     ]
    },
    {
     "name": "stdout",
     "output_type": "stream",
     "text": [
      "\n",
      "+-----------------------------------------------+\n",
      "|Searching for catalog for target_ra_114_dec_-70|\n",
      "+-----------------------------------------------+\n",
      "\n",
      "\n",
      "+---------------------------------+\n",
      "|Matching catalog sources to image|\n",
      "+---------------------------------+\n",
      "\n",
      "Removed 1 sources too close to target\n",
      "Removed 98 sources too close to boundary or off image\n",
      "Matching catalog to image: 317 / 770 :: Useful sources 298 / 770 "
     ]
    },
    {
     "name": "stderr",
     "output_type": "stream",
     "text": [
      "\n",
      "Median offset: 2.3 [ pixels ] / 0.9 [ arcsec ]\n"
     ]
    },
    {
     "name": "stdout",
     "output_type": "stream",
     "text": [
      "\r",
      "Matching catalog to image: 318 / 770 :: Useful sources 299 / 770 \r",
      "Matching catalog to image: 319 / 770 :: Useful sources 300 / 770   .. done\n",
      "\n",
      "Broken cutouts: 0\n",
      "Not in correct location: 0\n",
      "Not detected: 0\n",
      "Saturated: 19\n",
      "Error: 0\n",
      "\n"
     ]
    },
    {
     "name": "stderr",
     "output_type": "stream",
     "text": [
      "Residual table updated: 1 / 10 \n",
      "\tSNR: 599 :: FWHM fitted 4.798\n"
     ]
    },
    {
     "name": "stdout",
     "output_type": "stream",
     "text": [
      "\n",
      "+-------------------------------------------+\n",
      "|Building PSF model using stars in the field|\n",
      "+-------------------------------------------+\n",
      "\n"
     ]
    },
    {
     "name": "stderr",
     "output_type": "stream",
     "text": [
      "Residual table updated: 2 / 10 \n",
      "\tSNR: 585 :: FWHM fitted 4.795\n",
      "Residual table updated: 3 / 10 \n",
      "\tSNR: 555 :: FWHM fitted 4.541\n",
      "Residual table updated: 4 / 10 \n",
      "\tSNR: 520 :: FWHM fitted 4.643\n",
      "Residual table updated: 5 / 10 \n",
      "\tSNR: 512 :: FWHM fitted 4.627\n",
      "Residual table updated: 6 / 10 \n",
      "\tSNR: 509 :: FWHM fitted 4.742\n",
      "Residual table updated: 7 / 10 \n",
      "\tSNR: 504 :: FWHM fitted 4.698\n",
      "Residual table updated: 8 / 10 \n",
      "\tSNR: 492 :: FWHM fitted 4.735\n",
      "Found faint soures near PSF star at 3 sigma - skipping \n",
      "Found faint soures near PSF star at 3 sigma - skipping \n",
      "Residual table updated: 9 / 10 \n",
      "\tSNR: 469 :: FWHM fitted 4.657\n",
      "Residual table updated: 10 / 10 \n",
      "\tSNR: 467 :: FWHM fitted 4.431\n",
      "\n",
      "PSF built using 10 sources\n",
      "\n",
      "Unity PSF: 27.3 [counts] \n",
      "Unity Residual table: 3.0 [counts] \n",
      "Using PSF Photometry on Sequence Stars\n",
      "Approx PSF mag -9.492 mag\n"
     ]
    },
    {
     "name": "stdout",
     "output_type": "stream",
     "text": [
      "PSF model saved as: /Users/seanbrennan/Desktop/autophot_example_REDUCED/example/PSF_model_example_APT.fits\n",
      "\n",
      "+-------------------+\n",
      "|Measuring PSF model|\n",
      "+-------------------+\n",
      "\n",
      "\n",
      "+-----------------------------------+\n",
      "|Fitting PSF to sources in the image|\n",
      "+-----------------------------------+\n",
      "\n",
      "Fitting PSF to source: 300 / 300 "
     ]
    },
    {
     "name": "stderr",
     "output_type": "stream",
     "text": [
      "\n",
      "Mean r-band zeropoint: 23.110 +/- 0.041 \n",
      "\n"
     ]
    },
    {
     "name": "stdout",
     "output_type": "stream",
     "text": [
      "\n",
      "+-----------------------+\n",
      "|Finding Zeropoint value|\n",
      "+-----------------------+\n",
      "\n",
      "Checking for suitable catalog sources\n",
      "Removed 300 sources lower than SNR of 10.0\n"
     ]
    },
    {
     "name": "stderr",
     "output_type": "stream",
     "text": [
      "Target photometry on original image\n"
     ]
    },
    {
     "name": "stdout",
     "output_type": "stream",
     "text": [
      "\n",
      "+-----------------------------------------------+\n",
      "|Performing PSF photometry on at target location|\n",
      "+-----------------------------------------------+\n",
      "\n"
     ]
    },
    {
     "name": "stderr",
     "output_type": "stream",
     "text": [
      "Approximate Target SNR: 56.2\n",
      "SNR = 56 - skipping limiting magnitude\n",
      "Pixel Offset: 1.054\n",
      "Limiting Magnitude: skipped\n",
      "Target Detection probability: 100 %\n",
      "Target flux: 178.346 +/- 2.620 [counts/s]\n",
      "Noise: 70.415 [counts/s]\n",
      "Target SNR: 56.186 +/- 0.019\n",
      "Instrumental Magnitude: -5.628 +/- 0.046\n",
      "Zeropoint: 23.110 +/- 0.041\n",
      "Target Magnitude: 17.482 +/- 0.077 \n",
      "\n",
      "*** Transient well detected ***\n",
      "\n",
      "Time Taken [ 31797 ]: 118s\n",
      "Sucess: example_APT.fits :: PID 31797 \n",
      "\n"
     ]
    },
    {
     "name": "stdout",
     "output_type": "stream",
     "text": [
      "Error from multlocation [10] recovery: 0.043 [mag]\n",
      "\n",
      "---\n",
      "\n",
      "Files that failed : []\n",
      "\n",
      "DONE\n",
      "\n",
      "Done - Time Taken: 138.1\n"
     ]
    }
   ],
   "source": [
    "# Import automated photometry script and pass input dictionary\n",
    "from autophot.autophot_main import run_automatic_autophot\n",
    "\n",
    "run_automatic_autophot(autophot_input)"
   ]
  },
  {
   "cell_type": "markdown",
   "metadata": {},
   "source": [
    "<h3 align=\"center\">Looking at the outputs!</h3> \n",
    "\n",
    "\n",
    "Output of AutoPhOT will be given in folder in the parent dictionary of the fits_folder, below we display some of the visual outputs\n",
    "\n",
    "For example if the **fits_dir** is set to */Users/seanbrennan/Desktop/autophot_example* the ouput folder will be */Users/seanbrennan/Desktop/autophot_example_REDUCED*\n",
    "\n",
    "Each image will have a *out.csv*. Once AutoPhOT has completed each file in a folder it will collect all these files into one file named *REDUCED.csv* in the output folder"
   ]
  },
  {
   "cell_type": "markdown",
   "metadata": {},
   "source": [
    "\n",
    "\n",
    " <div class=\"alert alert-success\" role=\"alert\">\n",
    "  Checking the SkyMapper catalog, this source has r =  17.491 +/- 0.011 mag. \n",
    "The AutoPhoT output gives r = 17.482 +/- 0.077 mag\n",
    "</div>\n"
   ]
  },
  {
   "cell_type": "code",
   "execution_count": null,
   "metadata": {},
   "outputs": [],
   "source": []
  },
  {
   "cell_type": "code",
   "execution_count": null,
   "metadata": {},
   "outputs": [],
   "source": []
  }
 ],
 "metadata": {
  "kernelspec": {
   "display_name": "Python 3 (ipykernel)",
   "language": "python",
   "name": "python3"
  },
  "language_info": {
   "codemirror_mode": {
    "name": "ipython",
    "version": 3
   },
   "file_extension": ".py",
   "mimetype": "text/x-python",
   "name": "python",
   "nbconvert_exporter": "python",
   "pygments_lexer": "ipython3",
   "version": "3.7.12"
  }
 },
 "nbformat": 4,
 "nbformat_minor": 4
}
