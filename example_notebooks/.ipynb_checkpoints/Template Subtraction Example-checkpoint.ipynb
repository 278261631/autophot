{
 "cells": [
  {
   "cell_type": "markdown",
   "metadata": {},
   "source": [
    "# Template subtraction notebook\n",
    "\n"
   ]
  },
  {
   "cell_type": "markdown",
   "metadata": {},
   "source": [
    "This is an exmaple of how to set up AutoPhot in order to perform Template Subtraction using HOTPANTS by Andy Becker (https://github.com/acbecker/hotpants)\n",
    "\n",
    "Autophot is set up to accpet templates in ugriz, UVBRI and JHK bands, although please fully read notebook to note limitations\n",
    "\n",
    "The current version of Autphot cannot distinguished between templates from/for different instruments. For exmaple if you have two science-ready images from NTT+EFOSC2 and the NOT and a temaple from NTT+EFOSC2, Autophot will apply template subtraction to both images using the same templates.\n",
    "\n",
    "\n",
    "Future versions of AutoPhot will allow for Telescope\\Instrument specific templates. "
   ]
  },
  {
   "cell_type": "code",
   "execution_count": null,
   "metadata": {},
   "outputs": [],
   "source": []
  },
  {
   "cell_type": "markdown",
   "metadata": {},
   "source": [
    "Load in the syntax file - we will need to update a few options to prepare AutoPhot for template subtractions"
   ]
  },
  {
   "cell_type": "code",
   "execution_count": 1,
   "metadata": {},
   "outputs": [
    {
     "name": "stdout",
     "output_type": "stream",
     "text": [
      "Default input loaded in from: \n",
      "/Users/seanbrennan/Documents/autophot_development/AutoPHoT_conda/autophot/autophot/databases/default_input.yml\n"
     ]
    }
   ],
   "source": [
    "from autophot.prep_input import load\n",
    "syntax = load()"
   ]
  },
  {
   "cell_type": "markdown",
   "metadata": {},
   "source": [
    "Firstly lets set up the folder structure for our templates - This must be placed in the wokring directory and **not** the output directory (i.e. the '_REDUCED' folder).\n",
    "\n",
    "The cell below will set up the correct template structure. For completeness we will setup the folder structure for all sloan bands i.e. ugriz and JHK bands - Due to the case sensitive nature of directory naming conventions, the current version of AutoPhot cannot accept sloan-r and johnson cousins-R bands (for example, the same for i and I bands etc) these will need to be manually changed - This is fixed in a upcoming version of Autophot"
   ]
  },
  {
   "cell_type": "code",
   "execution_count": 2,
   "metadata": {},
   "outputs": [
    {
     "name": "stdout",
     "output_type": "stream",
     "text": [
      "Successful copy of example.fits written to:\n",
      "/Users/seanbrennan/Desktop/autophot_example/example.fits\n"
     ]
    }
   ],
   "source": [
    "# First lets set up a science ready image - similar to other notebooks \n",
    "\n",
    "\n",
    "# Lets put an example science image in a folder on the desktop \n",
    "desktop_loc = '/Users/seanbrennan/Desktop'\n",
    "\n",
    "# Built in function to move some example data onto the users desktop\n",
    "from autophot.example import save_example_data\n",
    "fpath = save_example_data.save_fits_to_desktop(new_path = desktop_loc) "
   ]
  },
  {
   "cell_type": "code",
   "execution_count": 3,
   "metadata": {},
   "outputs": [
    {
     "name": "stdout",
     "output_type": "stream",
     "text": [
      "list of contects in: /Users/seanbrennan/Desktop/autophot_example \n",
      " -> ['.DS_Store', 'example.fits', 'templates']\n"
     ]
    }
   ],
   "source": [
    "import os\n",
    "\n",
    "# Lets just see that everything is in place \n",
    "dirpath = os.path.dirname(fpath)\n",
    "\n",
    "print('list of contects in: %s \\n -> %s' % (dirpath,os.listdir(dirpath)))# returns list of folder contents"
   ]
  },
  {
   "cell_type": "code",
   "execution_count": 4,
   "metadata": {},
   "outputs": [
    {
     "name": "stdout",
     "output_type": "stream",
     "text": [
      "Setting work directory (wdir) to: /Users/seanbrennan/Desktop/autophot_example\n"
     ]
    }
   ],
   "source": [
    "# set working directory - or where you have your telescope.yml, etc. files\n",
    "# for me it is on my dekstop \n",
    "syntax['wdir'] = desktop_loc\n",
    "print('Setting work directory (wdir) to: %s' % dirpath)\n",
    "\n",
    "'''\n",
    "need to set the 'fits_dir' (work on all files in a folder) command and not 'fname' (work on a single file only)\n",
    "\n",
    "or you own science purpose set syntax['fits_dir'] to where you have all your images\n",
    "e.g. syntax['fits_dir'] = '/Users/lgalbany/Desktop/SN2020uxz'\n",
    "'''\n",
    "syntax['fits_dir'] = dirpath\n",
    "syntax['fname'] = None\n"
   ]
  },
  {
   "cell_type": "code",
   "execution_count": 5,
   "metadata": {},
   "outputs": [],
   "source": [
    "# set the catalog as before # Can choose skymapper, apass, pan_starrs, 2mass\n",
    "syntax['catalog'] = 'skymapper'"
   ]
  },
  {
   "cell_type": "code",
   "execution_count": 6,
   "metadata": {},
   "outputs": [],
   "source": [
    "# Select a source and update our syntax input\n",
    "# For this example lets use the location of AT2016jbu as that won't be removed in the template subtraction\n",
    "ra  = 114.108167\n",
    "dec = -69.548681\n",
    "\n",
    "from astropy.coordinates import SkyCoord \n",
    "c = SkyCoord(ra,dec , unit=\"deg\") \n",
    "\n",
    "\n",
    "# Not tell autophot where to look\n",
    "syntax['target_ra'] = c.ra.degree\n",
    "syntax['target_dec'] = c.dec.degree"
   ]
  },
  {
   "cell_type": "markdown",
   "metadata": {},
   "source": [
    "# Setting up template folder structure\n",
    "\n",
    "Okay so now lets build the template folder structure - this can be done mamually but for the purpose of the npotebook we can code a short script to do it for us"
   ]
  },
  {
   "cell_type": "code",
   "execution_count": 7,
   "metadata": {},
   "outputs": [
    {
     "name": "stdout",
     "output_type": "stream",
     "text": [
      "Location of templates will be in : /Users/seanbrennan/Desktop/autophot_example/templates\n"
     ]
    }
   ],
   "source": [
    "# First make a folder called 'templates' in wdir\n",
    "main_template_foler = os.path.join(dirpath,'templates')\n",
    "\n",
    "print('Location of templates will be in : %s' % main_template_foler)\n",
    "\n",
    "if not os.path.exists(main_template_foler): # if the directory does not exis\n",
    "    os.mkdir(main_template_foler )\n"
   ]
  },
  {
   "cell_type": "code",
   "execution_count": 8,
   "metadata": {},
   "outputs": [
    {
     "name": "stdout",
     "output_type": "stream",
     "text": [
      "list of contects in: /Users/seanbrennan/Desktop/autophot_example \n",
      " -> ['.DS_Store', 'example.fits', 'templates']\n"
     ]
    }
   ],
   "source": [
    "# Lets check if it was created successfully \n",
    "print('list of contects in: %s \\n -> %s' % (dirpath,os.listdir(dirpath)))# returns list of folder contents"
   ]
  },
  {
   "cell_type": "markdown",
   "metadata": {},
   "source": [
    "As the MACos is case sensitive we need to distiguish between the sloan-r template folder and the JC R band template folder (for example, also applicable to u/U and i/I etc) to fix this we name any sloan template folder with a \"p\" e.g. r_template -> rp_template and so on"
   ]
  },
  {
   "cell_type": "code",
   "execution_count": 9,
   "metadata": {},
   "outputs": [
    {
     "name": "stdout",
     "output_type": "stream",
     "text": [
      "Creating folder for up-band at: /Users/seanbrennan/Desktop/autophot_example/templates/up_template\n",
      "Creating folder for gp-band at: /Users/seanbrennan/Desktop/autophot_example/templates/gp_template\n",
      "Creating folder for rp-band at: /Users/seanbrennan/Desktop/autophot_example/templates/rp_template\n",
      "Creating folder for ip-band at: /Users/seanbrennan/Desktop/autophot_example/templates/ip_template\n",
      "Creating folder for zp-band at: /Users/seanbrennan/Desktop/autophot_example/templates/zp_template\n",
      "Creating folder for U-band at: /Users/seanbrennan/Desktop/autophot_example/templates/U_template\n",
      "Creating folder for B-band at: /Users/seanbrennan/Desktop/autophot_example/templates/B_template\n",
      "Creating folder for V-band at: /Users/seanbrennan/Desktop/autophot_example/templates/V_template\n",
      "Creating folder for R-band at: /Users/seanbrennan/Desktop/autophot_example/templates/R_template\n",
      "Creating folder for I-band at: /Users/seanbrennan/Desktop/autophot_example/templates/I_template\n",
      "Creating folder for J-band at: /Users/seanbrennan/Desktop/autophot_example/templates/J_template\n",
      "Creating folder for H-band at: /Users/seanbrennan/Desktop/autophot_example/templates/H_template\n",
      "Creating folder for K-band at: /Users/seanbrennan/Desktop/autophot_example/templates/K_template\n"
     ]
    }
   ],
   "source": [
    "#Now lets make the correct folder structure\n",
    "\n",
    "# List of filters we want to make folders for \n",
    "filter_list = ['up','gp','rp','ip','zp','U','B','V','R','I','J','H','K']\n",
    "\n",
    "for f in filter_list:\n",
    "    \n",
    "    \n",
    "    filter_template_name = f + '_template'\n",
    "    \n",
    "    filter_template_location = os.path.join(main_template_foler,filter_template_name)\n",
    "    \n",
    "    print('Creating folder for %s-band at: %s' % (f,filter_template_location))\n",
    "    \n",
    "    if not os.path.exists(filter_template_location): # if the directory does not exis\n",
    "        \n",
    "        os.mkdir(filter_template_location)\n",
    " "
   ]
  },
  {
   "cell_type": "code",
   "execution_count": 10,
   "metadata": {},
   "outputs": [
    {
     "name": "stdout",
     "output_type": "stream",
     "text": [
      "Contents of wdir: ['.DS_Store', 'example.fits', 'templates']\n",
      "---\n",
      "Contents of template folder: ['B_template', 'I_template', 'H_template', 'V_template', '.DS_Store', 'ip_template', 'zp_template', 'gp_template', 'U_template', 'rp_template', 'J_template', 'K_template', 'R_template', 'up_template']\n"
     ]
    }
   ],
   "source": [
    "# Lets check if everything was placed in the right place\n",
    "print('Contents of wdir:',os.listdir(dirpath))\n",
    "\n",
    "print('---')\n",
    "\n",
    "print('Contents of template folder:',os.listdir(main_template_foler))\n",
    "#os.listdir(main_template_foler)"
   ]
  },
  {
   "cell_type": "markdown",
   "metadata": {},
   "source": [
    "Okay folders are now set up - now place your template folders in their correct folder\n",
    "\n",
    "For the best results they must be science ready .i.e cleaned of cosmic rays, correct WCS values etc so perhaps run the templates through autophot to clean them up?\n",
    "\n",
    "(A future update will do this automatically)\n",
    "\n",
    "Now lets tell Autophot that we want to perform template subtractions"
   ]
  },
  {
   "cell_type": "code",
   "execution_count": 11,
   "metadata": {},
   "outputs": [],
   "source": [
    "# Turn on subtractions  (set to false to turn off)\n",
    "syntax['do_subtraction'] = True\n",
    "\n",
    "# Location of hotpants executable - you'll need to install hotpants yourself\n",
    "syntax['hotpants_exe_loc'] = '/usr/local/hotpants-master/hotpants'"
   ]
  },
  {
   "cell_type": "markdown",
   "metadata": {},
   "source": [
    "In this particular set of images the transient is the brightest object in the field \n",
    "\n",
    "Autophot will therefore prefer to use aperture photometry in this case\n",
    "\n",
    "For fun lets force PSF photometry to check the subtraction in the output \"_REDUCED\" folder"
   ]
  },
  {
   "cell_type": "code",
   "execution_count": 12,
   "metadata": {},
   "outputs": [],
   "source": [
    "syntax['force_psf'] = True"
   ]
  },
  {
   "cell_type": "markdown",
   "metadata": {},
   "source": [
    "\n"
   ]
  },
  {
   "cell_type": "markdown",
   "metadata": {},
   "source": [
    "**So now AutoPhot is ready to run template subtraction**\n",
    "\n",
    "the code will try to align the images used *AstroAlign* (https://github.com/quatrope/astroalign) which can provide a very good matching but in testing this can fail quite often - If it does fail Autophot will align the images based on their WCS values using *reproject*  (https://github.com/astropy/reproject)."
   ]
  },
  {
   "cell_type": "code",
   "execution_count": 13,
   "metadata": {},
   "outputs": [
    {
     "name": "stdout",
     "output_type": "stream",
     "text": [
      "\n",
      "    _       _       ___ _  _    _____\n",
      "   /_\\ _  _| |_ ___| _ \\ || |__|_   _|\n",
      "  / _ \\ || |  _/ _ \\  _/ __ / _ \\| |\n",
      " /_/ \\_\\_,_|\\__\\___/_| |_||_\\___/|_|\n",
      "\n",
      " ---------------------------------------\n",
      "         AutoPhOT Beta\n",
      "         S.J.Brennan et al. 2020 in prep\n",
      "         Please provide feedback/bugs to:\n",
      "         Email: sean.brennan2@ucdconnect.ie\n",
      "---------------------------------------\n",
      "\n",
      "\n",
      "\n",
      "AutoPhOT Version: 0.1.1\n",
      "Checking internet connection...\n",
      "Connected to internet\n",
      "\n",
      "Directory of fits file: /Users/seanbrennan/Desktop/autophot_example\n",
      "- EXAMPLE_TELESCOPE\n",
      "\n",
      "Telscope data checked :: looking for filter information\n",
      "\n",
      "Checking: Filters\n",
      "\n",
      "Files removed - Wrong Image Type: 0\n",
      "\n",
      "Files removed - No/Wrong filter(s): 0\n",
      "Filters not included: []\n",
      "\n",
      "\n",
      "Files removed: 0\n",
      "\n",
      "+-----------+\n",
      "|File: 1 / 1|\n",
      "+-----------+\n"
     ]
    },
    {
     "name": "stderr",
     "output_type": "stream",
     "text": [
      "File: example_APT.fits - PID: 9695\n",
      "Start Time: 2021-02-14 14:56:19.532868\n",
      "Telescope: EXAMPLE_TELESCOPE\n",
      "Filter: r\n",
      "MJD: 58849.000\n",
      "Observation Date: 2020-01-01\n",
      "Gain: 1\n",
      "Exposure time: 60s \n",
      "Detecting/removing cosmic ray sources\n"
     ]
    },
    {
     "name": "stdout",
     "output_type": "stream",
     "text": [
      "Starting Astroscrappy ... working ... this may take some time ... done\n",
      "Exposure time: 60s :: Cosmic Ray Detections: 4048\n"
     ]
    },
    {
     "name": "stderr",
     "output_type": "stream",
     "text": [
      "Cosmic rays removed - image updated\n",
      "WCS found\n",
      "Using Gaussian Profile for fitting\n",
      "Number of sources before cleaning - [s = 100.0]: 521 \n",
      "Too many sources\n",
      "Number of sources before cleaning - [s = 200.0]: 332 \n"
     ]
    },
    {
     "name": "stdout",
     "output_type": "stream",
     "text": [
      "-Saturated source\n",
      "-Saturated source\n",
      "-Saturated source\n",
      "-Saturated source\n",
      "-Saturated source\n",
      "-Saturated source\n",
      "-Saturated source\n",
      "-Saturated source\n",
      "-Saturated source\n",
      "-Saturated source\n",
      "-Saturated source\n",
      "-Saturated source\n",
      "-Saturated source\n",
      "-Saturated source\n",
      "-Saturated source\n",
      "-Saturated source\n",
      "-Saturated source\n",
      "-Saturated source\n"
     ]
    },
    {
     "name": "stderr",
     "output_type": "stream",
     "text": [
      "Isolated sources found [ 200 sigma ]: 295\n",
      "\n",
      "Image FWHM: 4.617 +/- 0.153 \n",
      "\n",
      "sigma:1.961\n",
      "\n",
      "sigma_err:0.064\n",
      "\n",
      "Aperture correction: -0.094 +/- 0.009\n",
      "Searching for viable sources\n",
      "New target name: target_ra_114_dec_-70\n",
      "Catalog found for Target: target_ra_114_dec_-70\n",
      "Catalog: SKYMAPPER \n",
      "File: target_ra_114_dec_-70_r_0.25\n",
      "Catalog length: 1452\n",
      "Using Gaussian Profile for fitting\n"
     ]
    },
    {
     "name": "stdout",
     "output_type": "stream",
     "text": [
      "Matching catalog source to image: 249 / 785 "
     ]
    },
    {
     "name": "stderr",
     "output_type": "stream",
     "text": [
      "Average pixel offset: 2.082 \n",
      "Using PSF Photometry\n"
     ]
    },
    {
     "name": "stdout",
     "output_type": "stream",
     "text": [
      "\r",
      "Matching catalog source to image: 250 / 785 \r",
      "Matching catalog source to image: 251 / 785 \r",
      "Matching catalog source to image: 252 / 785 \r",
      "Matching catalog source to image: 253 / 785 "
     ]
    },
    {
     "name": "stderr",
     "output_type": "stream",
     "text": [
      "SNR: 7538 FWHM: 4.617\n"
     ]
    },
    {
     "name": "stdout",
     "output_type": "stream",
     "text": [
      "\r",
      "Residual table updated: 1 / 12 "
     ]
    },
    {
     "name": "stderr",
     "output_type": "stream",
     "text": [
      "SNR: 7120 FWHM: 4.617\n"
     ]
    },
    {
     "name": "stdout",
     "output_type": "stream",
     "text": [
      "\r",
      "Residual table updated: 2 / 12 "
     ]
    },
    {
     "name": "stderr",
     "output_type": "stream",
     "text": [
      "SNR: 6599 FWHM: 4.617\n"
     ]
    },
    {
     "name": "stdout",
     "output_type": "stream",
     "text": [
      "\r",
      "Residual table updated: 3 / 12 "
     ]
    },
    {
     "name": "stderr",
     "output_type": "stream",
     "text": [
      "SNR: 6487 FWHM: 4.617\n"
     ]
    },
    {
     "name": "stdout",
     "output_type": "stream",
     "text": [
      "\r",
      "Residual table updated: 4 / 12 "
     ]
    },
    {
     "name": "stderr",
     "output_type": "stream",
     "text": [
      "SNR: 6303 FWHM: 4.617\n"
     ]
    },
    {
     "name": "stdout",
     "output_type": "stream",
     "text": [
      "\r",
      "Residual table updated: 5 / 12 "
     ]
    },
    {
     "name": "stderr",
     "output_type": "stream",
     "text": [
      "SNR: 5735 FWHM: 4.617\n"
     ]
    },
    {
     "name": "stdout",
     "output_type": "stream",
     "text": [
      "\r",
      "Residual table updated: 6 / 12 "
     ]
    },
    {
     "name": "stderr",
     "output_type": "stream",
     "text": [
      "SNR: 5676 FWHM: 4.617\n"
     ]
    },
    {
     "name": "stdout",
     "output_type": "stream",
     "text": [
      "\r",
      "Residual table updated: 7 / 12 "
     ]
    },
    {
     "name": "stderr",
     "output_type": "stream",
     "text": [
      "SNR: 5548 FWHM: 4.617\n"
     ]
    },
    {
     "name": "stdout",
     "output_type": "stream",
     "text": [
      "\r",
      "Residual table updated: 8 / 12 "
     ]
    },
    {
     "name": "stderr",
     "output_type": "stream",
     "text": [
      "SNR: 5535 FWHM: 4.617\n"
     ]
    },
    {
     "name": "stdout",
     "output_type": "stream",
     "text": [
      "\r",
      "Residual table updated: 9 / 12 "
     ]
    },
    {
     "name": "stderr",
     "output_type": "stream",
     "text": [
      "SNR: 5395 FWHM: 4.617\n"
     ]
    },
    {
     "name": "stdout",
     "output_type": "stream",
     "text": [
      "\r",
      "Residual table updated: 10 / 12 "
     ]
    },
    {
     "name": "stderr",
     "output_type": "stream",
     "text": [
      "SNR: 5353 FWHM: 4.617\n"
     ]
    },
    {
     "name": "stdout",
     "output_type": "stream",
     "text": [
      "\r",
      "Residual table updated: 11 / 12 "
     ]
    },
    {
     "name": "stderr",
     "output_type": "stream",
     "text": [
      "SNR: 5201 FWHM: 4.617\n",
      "Image_radius [pix] : 8.772 +/- 0.000\n",
      "FWHM of PSF model: 4.617\n",
      "Approx PSF mag -10.050\n",
      "Image cutout size: (38,38) (38,38)\n",
      "Fitting PSF to 250 sources\n"
     ]
    },
    {
     "name": "stdout",
     "output_type": "stream",
     "text": [
      "Residual table updated: 12 / 12   \n",
      "Fitting PSF to source: 250 / 250"
     ]
    },
    {
     "name": "stderr",
     "output_type": "stream",
     "text": [
      "\n",
      "r-band zeropoint: 22.987 +/- 0.034 \n",
      "\n"
     ]
    },
    {
     "name": "stdout",
     "output_type": "stream",
     "text": [
      "  \n"
     ]
    },
    {
     "name": "stderr",
     "output_type": "stream",
     "text": [
      "Approx. limiting magnitude: 17.837 \n",
      "Using user template\n",
      "Found user templates\n",
      "Aligning via WCS\n",
      "Template saved as: example_APT_template\n",
      "Performing image subtraction using HOTPANTS\n"
     ]
    },
    {
     "name": "stdout",
     "output_type": "stream",
     "text": [
      "[('-inim', '/Users/seanbrennan/Desktop/autophot_example_REDUCED/example/example_APT.fits'), ('-tmplim', '/Users/seanbrennan/Desktop/autophot_example_REDUCED/example/example_APT_template.fits'), ('-outim', '/Users/seanbrennan/Desktop/autophot_example_REDUCED/example/example_APT_subtraction.fits'), ('-il', '-912.10004'), ('-tl', '-39.438793'), ('-tu', '1651.4688'), ('-iu', '65536'), ('-n', 'i')]\n"
     ]
    },
    {
     "name": "stderr",
     "output_type": "stream",
     "text": [
      "Target photometry on subtracted image\n"
     ]
    },
    {
     "name": "stdout",
     "output_type": "stream",
     "text": [
      "HOTPANTS finished: 98s\n",
      "Subtraction saved as example_APT_subtraction\n"
     ]
    },
    {
     "name": "stderr",
     "output_type": "stream",
     "text": [
      "Doing Aperture Photometry on Target\n",
      "Discrepancy in FWHM of 0.8 pixels\n",
      "Limiting threshold: 5 sigma\n",
      "/Users/seanbrennan/anaconda2/envs/conda3/lib/python3.8/site-packages/astropy/table/table.py:3183: FutureWarning: elementwise == comparison failed and returning scalar instead; this will raise an error or perform elementwise comparison in the future.\n",
      "  result = self.as_array() == other\n",
      "Number of pixels in star: 242\n",
      "Mean: 238.64 - std: 101.24\n",
      "Detection at 5 std: 744.842\n"
     ]
    },
    {
     "name": "stdout",
     "output_type": "stream",
     "text": [
      "[46.733444405635595, 32.8832777971822, 32.8832777971822]\n",
      "[37.5, 45.496397419711734, 29.503602580288273]\n"
     ]
    },
    {
     "name": "stderr",
     "output_type": "stream",
     "text": [
      "Pixel Offset: 0.428\n",
      "\n",
      "Target counts: 3740.325 +/- 0.000\n",
      "Target SNR: 468.950 +/- 0.002\n",
      "Instrumental Magnitude: -8.932 +/- 0.000\n",
      "Zeropoint: 22.987 +/- 0.034\n",
      "Detection Probability [beta] 100.00%:\n",
      "Limiting Magnitude: 20.252\n",
      "Target Magnitude: 14.055 +/- 0.034 \n",
      "\n",
      "*** FWHM discrepancy: 0.787 pixels ***\n",
      "\n",
      "Time Taken [ 9695 ]: 371s\n",
      "Sucess: example_APT.fits :: PID 9695 \n",
      "\n"
     ]
    },
    {
     "name": "stdout",
     "output_type": "stream",
     "text": [
      "\n",
      "---\n",
      "\n",
      "Total failure : []\n",
      "\n",
      "DONE\n",
      "Recovering Output...\n",
      "Data recovered :: Output File:\n",
      "/Users/seanbrennan/Desktop/autophot_example_REDUCED/REDUCED.csv\n",
      "\n",
      "Done - Time Taken: 372.3\n"
     ]
    }
   ],
   "source": [
    "from autophot.autophot import run_automatic_autophot\n",
    "\n",
    "syntax['restart'] = False\n",
    "\n",
    "run_automatic_autophot(syntax)"
   ]
  },
  {
   "cell_type": "markdown",
   "metadata": {},
   "source": [
    "We can check the subtraction by calling the below cell - We'd recommend to check all subtractions as an automated subtraction package can lead to poor subtractions occasionally\n",
    "\n",
    "Additionall, template subtraction can alter the image slightl leading to a still change in the FWHM of the target - which autophot will return a warning for!"
   ]
  },
  {
   "cell_type": "code",
   "execution_count": 2,
   "metadata": {},
   "outputs": [
    {
     "data": {
      "image/png": "[encoded data removed]",
      "text/plain": [
       "<wand.image.Image: 072d6c4 'PDF' (512x324)>"
      ]
     },
     "execution_count": 2,
     "metadata": {},
     "output_type": "execute_result"
    }
   ],
   "source": [
    "# Wand is used to display pdf images in jupyter notebooks - it is not needed for AutoPhoT\n",
    "import wand\n",
    "\n",
    "f = '/Users/seanbrennan/Desktop/autophot_example_REDUCED/example/example_APT_subtraction_QUICKLOOK.pdf'\n",
    "from wand.image import Image as WImage\n",
    "PSF = WImage(filename = f,\n",
    "             resolution = 150)\n",
    "PSF"
   ]
  },
  {
   "cell_type": "code",
   "execution_count": null,
   "metadata": {},
   "outputs": [],
   "source": []
  }
 ],
 "metadata": {
  "kernelspec": {
   "display_name": "Python 3",
   "language": "python",
   "name": "python3"
  },
  "language_info": {
   "codemirror_mode": {
    "name": "ipython",
    "version": 3
   },
   "file_extension": ".py",
   "mimetype": "text/x-python",
   "name": "python",
   "nbconvert_exporter": "python",
   "pygments_lexer": "ipython3",
   "version": "3.8.3"
  }
 },
 "nbformat": 4,
 "nbformat_minor": 4
}
