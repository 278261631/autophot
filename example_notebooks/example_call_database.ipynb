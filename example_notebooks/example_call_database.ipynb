{
 "cells": [
  {
   "cell_type": "markdown",
   "metadata": {},
   "source": [
    "<h1 align=\"center\">Telescope Data Structure used in AutoPHoT</h1> \n",
    "\n",
    "AutoPhOT is built to be used across any telescope and their instruments. Fits files *should* follow the fits standard naming convention, although we found thoughout developent that a database is needed to translate discrepancies in naming conventions from different telescopes/instrument.\n",
    "\n",
    "As such, AutoPhOT creates a *telescope.yml* file in the directory given by **wdir**. **wdir** house the necasscary files for automated quick photometry.\n",
    "\n",
    "This noteboook highlights the operation of the *teledata2yml* function in the call_datacheck packge in autophot.\n",
    "Although this fucntion is executed during the *run* fucntion from autophot.autophot it can be executed beforehand such to take the care needed to build a reliable telescope/instrument database.\n",
    "\n",
    "This script is used as more of a demonstartion (and the user should be aware of) rather than something the user needs to code up themselves. \n",
    "\n",
    "This function is executed everytime AutoPhOT is executed.\n",
    "\n",
    "<div class=\"alert alert-danger\">\n",
    "  <strong>Remeber!</strong> All fits images need the TELESCOP and INSTRUME keywords\n",
    "</div>\n",
    "\n"
   ]
  },
  {
   "cell_type": "code",
   "execution_count": 1,
   "metadata": {},
   "outputs": [],
   "source": [
    "import autophot\n",
    "\n",
    "# this is the function we will be checking out\n",
    "from autophot.packages.call_datacheck import checkteledata"
   ]
  },
  {
   "cell_type": "markdown",
   "metadata": {},
   "source": []
  },
  {
   "cell_type": "markdown",
   "metadata": {},
   "source": [
    "<h2 align=\"center\">Create some fake FITS files</h2> \n",
    "\n",
    "For this demonstration we will create a folder on the users desktop and save the **fake_EFOSC2** and **fake_SOFI**. Although there is no need for the user to follow this notebook on their machine."
   ]
  },
  {
   "cell_type": "code",
   "execution_count": 2,
   "metadata": {},
   "outputs": [],
   "source": [
    "import os\n",
    "\n",
    "# Get the users homepath\n",
    "homedir = os.path.expanduser(\"~\")\n",
    "\n",
    "# Get path of their desktop\n",
    "desktopdir = os.path.join(homedir,'Desktop')\n",
    "\n",
    "# Get path of new directory called fake fits\n",
    "wdir = os.path.join(desktopdir,'fake_fits')\n",
    "\n",
    "# create direcrory called fake_fits\n",
    "os.makedirs(wdir,exist_ok = True)"
   ]
  },
  {
   "cell_type": "markdown",
   "metadata": {},
   "source": [
    "For the purpose of this example, we will make two files from the same  telescope, but from different instruments. The data will be a random image but we'll focusing on the header information.\n",
    "\n",
    "For this demonstration we will make files from the NTT at La Silla which has EFOSC in sloan r and later in sloan g and SOFI in K band.\n",
    "We will have EFOSC follow ideal header keycards whereas SOFI will follow a different paradigm."
   ]
  },
  {
   "cell_type": "code",
   "execution_count": 3,
   "metadata": {},
   "outputs": [],
   "source": [
    "from numpy import random\n",
    "from astropy.io import fits\n",
    "\n",
    "# Fake EFOSC file \n",
    "data = random.random((50,50))\n",
    "\n",
    "hdu = fits.PrimaryHDU(data)\n",
    "hdul = fits.HDUList([hdu])\n",
    "\n",
    "fake_efosc_path = os.path.join(wdir,'Fake_EFOSC2.fits')\n",
    "\n",
    "hdul.writeto(fake_efosc_path,overwrite = True)\n",
    "\n",
    "# update fake_efosc2.fits with usual header keywords\n",
    "with fits.open(fake_efosc_path,'update') as f:\n",
    "    for hdu in f:\n",
    "        hdu.header['TELESCOP'] = ('ESO-NTT','added for example')\n",
    "        hdu.header['INSTRUME'] = ('EFOSC2','added for example')\n",
    "        hdu.header['FILTER'] = ('r','added for example')\n",
    "        hdu.header['EXPTIME'] = (60.0,'added for example')\n",
    "        hdu.header['GAIN'] = (1.0,'added for example')\n",
    "        hdu.header['MJD-OBS'] = (58849.,'added for example')"
   ]
  },
  {
   "cell_type": "markdown",
   "metadata": {},
   "source": [
    "Lets check out this file we created"
   ]
  },
  {
   "cell_type": "code",
   "execution_count": 4,
   "metadata": {},
   "outputs": [
    {
     "data": {
      "image/png": "[encoded data removed]",
      "text/plain": [
       "<Figure size 432x288 with 1 Axes>"
      ]
     },
     "metadata": {
      "needs_background": "light"
     },
     "output_type": "display_data"
    },
    {
     "name": "stdout",
     "output_type": "stream",
     "text": [
      "SIMPLE  =                    T / conforms to FITS standard                      BITPIX  =                  -64 / array data type                                NAXIS   =                    2 / number of array dimensions                     NAXIS1  =                   50                                                  NAXIS2  =                   50                                                  EXTEND  =                    T                                                  TELESCOP= 'ESO-NTT '           / added for example                              INSTRUME= 'EFOSC2  '           / added for example                              FILTER  = 'r       '           / added for example                              EXPTIME =                 60.0 / added for example                              GAIN    =                  1.0 / added for example                              MJD-OBS =              58849.0 / added for example                              END                                                                                                                                                                                                                                                                                                                                                                                                                                                                                                                                                                                                                                                                                                                                                                                                                                                                                                                                                                                                                                                                                                                                                                                                                                                                                                                                                                                                                                                                                                                                                                                                                                                                                                                                                                                                                                                                                                                                                                                             \n"
     ]
    }
   ],
   "source": [
    "from autophot.packages.functions import getimage,getheader\n",
    "import matplotlib.pyplot as plt\n",
    "\n",
    "image = getimage(fake_efosc_path)\n",
    "header = getheader(fake_efosc_path)\n",
    "\n",
    "\n",
    "\n",
    "fig = plt.figure()\n",
    "ax1 = fig.add_subplot(111)\n",
    "\n",
    "ax1.imshow(image)\n",
    "plt.show()\n",
    "\n",
    "\n",
    "print(header)"
   ]
  },
  {
   "cell_type": "code",
   "execution_count": 5,
   "metadata": {},
   "outputs": [],
   "source": [
    "# Fake SOFI file \n",
    "\n",
    "data = random.random((50,50))\n",
    "\n",
    "hdu = fits.PrimaryHDU(data)\n",
    "hdul = fits.HDUList([hdu])\n",
    "\n",
    "fake_sofi_path = os.path.join(wdir,'Fake_SOFI.fits')\n",
    "hdul.writeto(fake_sofi_path,overwrite = True)\n",
    "\n",
    "# update fake_sofi.fits with some unique header keywords\n",
    "with fits.open(os.path.join(wdir,'Fake_SOFI.fits'),'update') as f:\n",
    "    for hdu in f:\n",
    "        hdu.header['TELESCOP'] = ('ESO-NTT','added for example')\n",
    "        hdu.header['INSTRUME'] = ('S_O_F_I','added for example')\n",
    "        hdu.header['FIL_WHL3'] = ('K_short','added for example')\n",
    "        hdu.header['EXPTIME'] = (60.0,'added for example')\n",
    "        hdu.header['GAIN_E'] = (1.0,'added for example')\n",
    "        hdu.header['MJD-OBS'] = (58849.,'added for example')"
   ]
  },
  {
   "cell_type": "markdown",
   "metadata": {},
   "source": [
    "<h2 align=\"center\">Building Database</h2> \n",
    "\n",
    "We can now call the checkteledata and build the telescope.yml file. "
   ]
  },
  {
   "cell_type": "code",
   "execution_count": 6,
   "metadata": {},
   "outputs": [
    {
     "name": "stdout",
     "output_type": "stream",
     "text": [
      "List of files: ['/Users/seanbrennan/Desktop/fake_fits/Fake_SOFI.fits', '/Users/seanbrennan/Desktop/fake_fits/Fake_EFOSC2.fits']\n"
     ]
    }
   ],
   "source": [
    "# create a list of filepaths  \n",
    "flist = [fake_sofi_path,fake_efosc_path]\n",
    "print('List of files:',flist)"
   ]
  },
  {
   "cell_type": "code",
   "execution_count": 7,
   "metadata": {},
   "outputs": [
    {
     "name": "stdout",
     "output_type": "stream",
     "text": [
      "Default input loaded in from: \n",
      "/Users/seanbrennan/Documents/autophot_development/autophot/autophot/databases/default_input.yml\n"
     ]
    }
   ],
   "source": [
    "# Load default synatx dictionary\n",
    "from autophot.prep_input import load\n",
    "\n",
    "# Load in command dictionary\n",
    "autophot_input = load()\n",
    "\n",
    "\n",
    "# Update working directory to parent directory of our fake images\n",
    "autophot_input ['wdir'] = wdir"
   ]
  },
  {
   "cell_type": "markdown",
   "metadata": {},
   "source": [
    "<h3 align=\"center\">Checking telescope and instrument information</h3> \n",
    "\n",
    "In the cell below we will now check the files we have created and update our telescope.yml file with their information.\n",
    "\n",
    "For both files we'll be asked (in order):\n",
    "\n",
    "1. Telescope location: \n",
    "\n",
    "    This can be selected from a list (given by the Astropy package Astroplan) or enter the Altitude, lataitude and longitude of the observatory.\n",
    "    \n",
    "\n",
    "2. Telescope and Instrument label:\n",
    "\n",
    "    This is used to neatly label the telescope and instrument images for easy recognition.\n",
    "    \n",
    "\n",
    "3. Gain Key: \n",
    "\n",
    "    The header keyword that gives the Image gain in $e^{-}$ per ADU.\n",
    "    \n",
    "\n",
    "4. Readnoise Key:\n",
    "\n",
    "    The header keyword that gives the image readnoise in $e^{-}$ per pixel.\n",
    "    \n",
    "\n",
    "5. Airmass Key:\n",
    "\n",
    "    The header keyword that gives the airmass of the observation.\n",
    "    \n",
    "\n",
    "Next AutoPHoT performs a check to make sure all nessecary filter information is available:\n",
    "\n",
    "First it will search for the correct header keyword that corrospond to a distinct filter name. By default the code will search for any keywords similer to _FL_, _FIL_, or _FILTER_\n",
    "    \n",
    "Next it will ask (if needed) to confirm any ambiguois filter name When/if asked for corrospsonding filter name, filter name must be in this list:\n",
    "\n",
    "Johnson-Cousion: UBVRI\n",
    "\n",
    "SLOAN: ugriz\n",
    "\n",
    "Near Infrared: JHK\n",
    "\n",
    "For example rp $\\rightarrow$ r, K_short $\\rightarrow$ K, Bes_B $\\rightarrow$ B\n",
    "    "
   ]
  },
  {
   "cell_type": "code",
   "execution_count": 8,
   "metadata": {},
   "outputs": [
    {
     "name": "stdout",
     "output_type": "stream",
     "text": [
      "Found Telescopes:\n",
      "\n",
      " - ESO-NTT\n",
      "Adding new Telescope: ESO-NTT\n",
      "Do you want to update location of ESO-NTT \n",
      "( Press enter for n ) \n",
      "( Accepted answers - y or n )\n",
      "> y\n",
      "0 - Custom Site Location                                   67 - Siding Spring Observatory\n",
      "1 - ALMA                                                   68 - Southern African Large Telescope\n",
      "2 - ATST                                                   69 - Subaru\n",
      "3 - Anglo-Australian Observatory                           70 - Subaru Telescope\n",
      "4 - Apache Point                                           71 - Sunspot\n",
      "5 - Apache Point Observatory                               72 - Sutherland\n",
      "6 - Atacama Large Millimeter Array                         73 - TUG\n",
      "7 - BAO                                                    74 - UKIRT\n",
      "8 - BBSO                                                   75 - United Kingdom Infrared Telescope\n",
      "9 - Beijing XingLong Observatory                           76 - Vainu Bappu Observatory\n",
      "10 - Black Moshannon Observatory                           77 - Very Large Array\n",
      "11 - CHARA                                                 78 - W. M. Keck Observatory\n",
      "12 - Canada-France-Hawaii Telescope                        79 - Whipple\n",
      "13 - Catalina Observatory                                  80 - Whipple Observatory\n",
      "14 - Cerro Pachon                                          81 - aao\n",
      "15 - Cerro Paranal                                         82 - alma\n",
      "16 - Cerro Tololo                                          83 - apo\n",
      "17 - Cerro Tololo Interamerican Observatory                84 - bbso\n",
      "18 - DCT                                                   85 - bmo\n",
      "19 - DKIST                                                 86 - cfht\n",
      "20 - Discovery Channel Telescope                           87 - ctio\n",
      "21 - Dominion Astrophysical Observatory                    88 - dao\n",
      "22 - GBT                                                   89 - dct\n",
      "23 - Gemini South                                          90 - dkist\n",
      "24 - Green Bank Telescope                                  91 - ekar\n",
      "25 - Hale Telescope                                        92 - example_site\n",
      "26 - Haleakala Observatories                               93 - flwo\n",
      "27 - Happy Jack                                            94 - gbt\n",
      "28 - IAO                                                   95 - gemini_north\n",
      "29 - JCMT                                                  96 - gemini_south\n",
      "30 - James Clerk Maxwell Telescope                         97 - gemn\n",
      "31 - Jansky Very Large Array                               98 - gems\n",
      "32 - Keck Observatory                                      99 - greenwich\n",
      "33 - Kitt Peak                                             100 - haleakala\n",
      "34 - Kitt Peak National Observatory                        101 - iao\n",
      "35 - La Silla Observatory                                  102 - irtf\n",
      "36 - Large Binocular Telescope                             103 - jcmt\n",
      "37 - Las Campanas Observatory                              104 - keck\n",
      "38 - Lick Observatory                                      105 - kpno\n",
      "39 - Lowell Observatory                                    106 - lapalma\n",
      "40 - MWA                                                   107 - lasilla\n",
      "41 - Manastash Ridge Observatory                           108 - lbt\n",
      "42 - McDonald Observatory                                  109 - lco\n",
      "43 - Medicina                                              110 - lick\n",
      "44 - Medicina Dish                                         111 - lowell\n",
      "45 - Michigan-Dartmouth-MIT Observatory                    112 - mcdonald\n",
      "46 - Mount Graham International Observatory                113 - mdm\n",
      "47 - Mt Graham                                             114 - medicina\n",
      "48 - Mt. Ekar 182 cm. Telescope                            115 - mmt\n",
      "49 - Mt. Stromlo Observatory                               116 - mro\n",
      "50 - Multiple Mirror Telescope                             117 - mso\n",
      "51 - Murchison Widefield Array                             118 - mtbigelow\n",
      "52 - NOV                                                   119 - mwa\n",
      "53 - NST                                                   120 - mwo\n",
      "54 - National Observatory of Venezuela                     121 - noto\n",
      "55 - Noto                                                  122 - ohp\n",
      "56 - Observatorio Astronomico Nacional, San Pedro Martir   123 - paranal\n",
      "57 - Observatorio Astronomico Nacional, Tonantzintla       124 - salt\n",
      "58 - Palomar                                               125 - sirene\n",
      "59 - Paranal Observatory                                   126 - spm\n",
      "60 - Roque de los Muchachos                                127 - spo\n",
      "61 - SAAO                                                  128 - srt\n",
      "62 - SALT                                                  129 - sso\n",
      "63 - SPO                                                   130 - tona\n",
      "64 - SRT                                                   131 - tug\n",
      "65 - Sac Peak                                              132 - ukirt\n",
      "66 - Sacramento Peak                                       133 - vbo\n",
      "\n",
      "Where is ESO-NTT located?\n",
      "Select telescope location from list or enter your own \n",
      "( Press enter for ignore ) \n",
      "> 35\n",
      "Selected Site: La Silla Observatory\n",
      "Use general atmopsheric extinction for La Silla Observatory at 2347m? \n",
      "( Press enter for y ) \n",
      "( Accepted answers - y or n )\n",
      "> \n",
      "-> y\n",
      "Wavelength 16300 outside Ozone Coeff range [2999,9740]\n",
      "Wavelength 12200 outside Ozone Coeff range [2999,9740]\n",
      "Wavelength 21900 outside Ozone Coeff range [2999,9740]\n",
      "\n",
      " *** Instrument Found ***\n",
      "ESO-NTT -> INSTRUME -> S_O_F_I\n",
      "Enter name of Telescope and Instrument for labelling \n",
      "( Press enter for ESO-NTT+S_O_F_I ) \n",
      "> NTT+SOFI\n",
      "Enter Pixel scale in arcsec/pixel \n",
      "( Press enter for 0.4 ) \n",
      "> 0.288\n",
      "\n",
      "Similar GAIN keywords found (File: Fake_SOFI.fits) \n",
      "\n",
      "Index - Key - value\n",
      "1 - GAIN_E - 1.0  \n",
      "Select index that represents GAIN key in e/ADU, type skip to give header key  \n",
      "( Press enter for 1 ) \n",
      "> \n",
      "-> 1\n",
      "GAIN key == GAIN_E\n",
      "\n",
      "Cannot find any keywords similar to READNOISE (File: Fake_SOFI.fits)\n",
      "Enter header key that represents READNOISE key in e/pixel, type skip to give header key  \n",
      "( Press enter for ignore ) \n",
      "> \n",
      "-> ignore\n",
      "\n",
      "Cannot find any keywords similar to AIRMASS (File: Fake_SOFI.fits)\n",
      "Enter header key  that represents AIRMASS key , type skip to give header key  \n",
      "( Press enter for ignore ) \n",
      "> \n",
      "-> ignore\n",
      "\n",
      " *** Instrument Found ***\n",
      "ESO-NTT -> INSTRUME -> EFOSC2\n",
      "Enter name of Telescope and Instrument for labelling \n",
      "( Press enter for ESO-NTT+EFOSC2 ) \n",
      "> NTT+EFOSC2\n",
      "Enter Pixel scale in arcsec/pixel \n",
      "( Press enter for 0.4 ) \n",
      "> 0.12\n",
      "\n",
      "Similar GAIN keywords found (File: Fake_EFOSC2.fits) \n",
      "\n",
      "Index - Key - value\n",
      "1 - GAIN - 1.0  \n",
      "Select index that represents GAIN key in e/ADU, type skip to give header key  \n",
      "( Press enter for 1 ) \n",
      "> \n",
      "-> 1\n",
      "GAIN key == GAIN\n",
      "\n",
      "Cannot find any keywords similar to READNOISE (File: Fake_EFOSC2.fits)\n",
      "Enter header key that represents READNOISE key in e/pixel, type skip to give header key  \n",
      "( Press enter for ignore ) \n",
      "> \n",
      "-> ignore\n",
      "\n",
      "Cannot find any keywords similar to AIRMASS (File: Fake_EFOSC2.fits)\n",
      "Enter header key  that represents AIRMASS key , type skip to give header key  \n",
      "( Press enter for ignore ) \n",
      "> \n",
      "-> ignore\n",
      "\n",
      "-> Telescope check complete\n",
      "\n",
      "Checking Filter keywords and database\n",
      "\n",
      "Cannot find Filter key for NTT+SOFI\n",
      "\n",
      "Similar ['FL', 'FIL', 'FILTER'] keywords found (File: Fake_SOFI.fits) \n",
      "\n",
      "Index - Key - value\n",
      "1 - FIL_WHL3 - K_short  \n",
      "2 - FIL_WHL3 - K_short  \n",
      "Select index that represents ['FL', 'FIL', 'FILTER'] key , type skip to give header key  \n",
      "( Press enter for 1 ) \n",
      "> 1\n",
      "['FL', 'FIL', 'FILTER'] key == FIL_WHL3\n",
      "Corrosponding filter name for - K_short?\n",
      "( Telescope: ESO-NTT :: Inst: S_O_F_I )  \n",
      "( Press enter for no_filter ) \n",
      " Accepted answers:\n",
      "| - H   - I   - J |\n",
      "| - K   - R   - U |\n",
      "| - B   - V   - g |\n",
      "| - i   - r   - u |\n",
      "| - z   -     -   |\n",
      "> K\n",
      "\n",
      "-> Filter check complete\n"
     ]
    }
   ],
   "source": [
    "checkteledata(autophot_input,flist)"
   ]
  },
  {
   "cell_type": "markdown",
   "metadata": {},
   "source": [
    "Great! The required information for both files is now written to _telescope.yml_.\n",
    "\n",
    "Now that that files have been checked, if we rerun the function it won't ask up for any new entries."
   ]
  },
  {
   "cell_type": "code",
   "execution_count": 9,
   "metadata": {},
   "outputs": [
    {
     "name": "stdout",
     "output_type": "stream",
     "text": [
      "Found Telescopes:\n",
      "\n",
      " - ESO-NTT\n",
      "\n",
      "-> Telescope check complete\n",
      "\n",
      "Checking Filter keywords and database\n",
      "\n",
      "-> Filter check complete\n"
     ]
    }
   ],
   "source": [
    "checkteledata(autophot_input,flist)"
   ]
  },
  {
   "cell_type": "markdown",
   "metadata": {},
   "source": [
    "\n",
    "\n",
    "\n",
    "\n",
    "\n",
    "Now that the telescope.yaml file has been great we can look it by loading the nest dictionary using yaml.safe_load and printing it with yaml.dump to check file structure - of course if this file is set up incorrectly you can edit it simply with a text editor"
   ]
  },
  {
   "cell_type": "markdown",
   "metadata": {},
   "source": [
    "<h3 align=\"center\">Checking general structure of telescope.yml</h3> \n"
   ]
  },
  {
   "cell_type": "code",
   "execution_count": 10,
   "metadata": {},
   "outputs": [
    {
     "name": "stdout",
     "output_type": "stream",
     "text": [
      "ESO-NTT:\n",
      "  INSTRUME:\n",
      "    EFOSC2:\n",
      "      AIRMASS: null\n",
      "      GAIN: GAIN\n",
      "      Name: NTT+EFOSC2\n",
      "      RDNOISE: null\n",
      "      filter_key_0: FILTER\n",
      "      pixel_scale: 0.12\n",
      "      r: r\n",
      "    S_O_F_I:\n",
      "      AIRMASS: null\n",
      "      GAIN: GAIN_E\n",
      "      K_short: K\n",
      "      Name: NTT+SOFI\n",
      "      RDNOISE: null\n",
      "      filter_key_0: FILTER\n",
      "      filter_key_1: FIL_WHL3\n",
      "      pixel_scale: 0.288\n",
      "  extinction:\n",
      "    ex_B: 0.203\n",
      "    ex_H: 0.001\n",
      "    ex_I: 0.019\n",
      "    ex_J: 0.003\n",
      "    ex_K: 0.0\n",
      "    ex_R: 0.068\n",
      "    ex_U: 0.455\n",
      "    ex_V: 0.111\n",
      "    ex_g: 0.142\n",
      "    ex_i: 0.023\n",
      "    ex_r: 0.08\n",
      "    ex_u: 0.478\n",
      "    ex_z: 0.012\n",
      "  location:\n",
      "    alt: 2347\n",
      "    lat: -29.256667\n",
      "    lon: -70.73\n",
      "    name: La Silla Observatory\n",
      "\n"
     ]
    }
   ],
   "source": [
    "import yaml\n",
    "\n",
    "# The code will look for the telescope.yml in the wdir key given in the syntax\n",
    "telescope_yaml_path = os.path.join(wdir,'telescope.yml')\n",
    "\n",
    "with open(telescope_yaml_path, 'r') as f:\n",
    "    yaml_data = yaml.safe_load(f)\n",
    "    \n",
    "print(yaml.dump(yaml_data, allow_unicode=True, default_flow_style=False))"
   ]
  },
  {
   "cell_type": "code",
   "execution_count": null,
   "metadata": {},
   "outputs": [],
   "source": []
  }
 ],
 "metadata": {
  "kernelspec": {
   "display_name": "Python 3 (ipykernel)",
   "language": "python",
   "name": "python3"
  },
  "language_info": {
   "codemirror_mode": {
    "name": "ipython",
    "version": 3
   },
   "file_extension": ".py",
   "mimetype": "text/x-python",
   "name": "python",
   "nbconvert_exporter": "python",
   "pygments_lexer": "ipython3",
   "version": "3.7.12"
  }
 },
 "nbformat": 4,
 "nbformat_minor": 4
}
